{
  "cells": [
    {
      "cell_type": "code",
      "execution_count": null,
      "id": "e2b0e362-41e5-4654-b0f2-d1fb273cc0d7",
      "metadata": {
        "id": "e2b0e362-41e5-4654-b0f2-d1fb273cc0d7"
      },
      "outputs": [],
      "source": [
        "from datasets import load_dataset\n",
        "from googletrans import Translator, LANGUAGES\n",
        "import torch\n",
        "from transformers import BertForSequenceClassification, BertTokenizer, AutoConfig, T5Tokenizer, T5ForConditionalGeneration\n",
        "from summarizer import Summarizer\n",
        "import pandas as pd"
      ]
    },
    {
      "cell_type": "markdown",
      "id": "4f442dc4-8836-4b67-b6c9-b3af26d8633d",
      "metadata": {
        "id": "4f442dc4-8836-4b67-b6c9-b3af26d8633d"
      },
      "source": [
        "# Код инференса\n",
        "https://libraries.io/pypi/bert-extractive-summarizer#examples"
      ]
    },
    {
      "cell_type": "code",
      "execution_count": null,
      "id": "44816b02-eec4-44f0-a06e-b3d4481f2291",
      "metadata": {
        "id": "44816b02-eec4-44f0-a06e-b3d4481f2291",
        "outputId": "91e0294a-724e-45fb-991a-ae66ad893b6e"
      },
      "outputs": [
        {
          "name": "stderr",
          "output_type": "stream",
          "text": [
            "/opt/conda/envs/interns_env/lib/python3.10/site-packages/huggingface_hub/file_download.py:1132: FutureWarning: `resume_download` is deprecated and will be removed in version 1.0.0. Downloads always resume when possible. If you want to force a new download, use `force_download=True`.\n",
            "  warnings.warn(\n",
            "Some weights of BertForSequenceClassification were not initialized from the model checkpoint at DeepPavlov/rubert-base-cased and are newly initialized: ['classifier.bias', 'classifier.weight']\n",
            "You should probably TRAIN this model on a down-stream task to be able to use it for predictions and inference.\n",
            "Special tokens have been added in the vocabulary, make sure the associated word embeddings are fine-tuned or trained.\n"
          ]
        }
      ],
      "source": [
        "# Создаем объект переводчика\n",
        "translator = Translator()\n",
        "\n",
        "# EXT\n",
        "# Объявляем модель, токенизатор, конфиг\n",
        "ext_model_name = 'DeepPavlov/rubert-base-cased' # берем русский берт как основу суммаризатора\n",
        "custom_tokenizer = BertTokenizer.from_pretrained(ext_model_name)\n",
        "custom_config = AutoConfig.from_pretrained(ext_model_name)\n",
        "# вывод скрытого состояния каждого слова = True. Это нужно, т.к. Summarizer работает именно с скрытыми состояниями (метаданными о тексте)\n",
        "custom_config.output_hidden_states=True\n",
        "custom_model = BertForSequenceClassification.from_pretrained(ext_model_name, config=custom_config)\n",
        "ext_model = Summarizer(custom_model=custom_model, custom_tokenizer=custom_tokenizer) # задаём русский берт как модель и токенизатор у суммаризатора\n",
        "\n",
        "# ABS\n",
        "# Объявляем модель и токенизатор\n",
        "abs_model_name = \"sarahai/ruT5-base-summarizer\"\n",
        "abs_tokenizer = T5Tokenizer.from_pretrained(abs_model_name)\n",
        "abs_model = T5ForConditionalGeneration.from_pretrained(abs_model_name)"
      ]
    },
    {
      "cell_type": "code",
      "execution_count": null,
      "id": "cc474b38-0e7f-4b2b-b5fb-af4b4f1905c4",
      "metadata": {
        "id": "cc474b38-0e7f-4b2b-b5fb-af4b4f1905c4"
      },
      "outputs": [],
      "source": [
        "def get_abstract_summary(text, min_length=50, max_length=150):\n",
        "    ''' Функция создания реферата моделью ruT5'''\n",
        "    input_ids = abs_tokenizer(text, return_tensors=\"pt\").input_ids # превращаем текст в токены\n",
        "\n",
        "    outputs = abs_model.generate(\n",
        "        input_ids, # токены последовательности\n",
        "        min_length=min_length, # ограничение на минимум слов\n",
        "        max_length=max_length, # ограничение на максимум слов\n",
        "        num_beams=4, # beam search, кол-во параллельно-генерируемых последовательностей (а затем выбор одной, наиболее репрезентабельной)\n",
        "        early_stopping=True # ранняя остановка\n",
        "    )\n",
        "\n",
        "    summary = abs_tokenizer.decode(outputs[0], skip_special_tokens=True) # превращаем токены обратно в текст\n",
        "    return summary"
      ]
    },
    {
      "cell_type": "code",
      "execution_count": null,
      "id": "381f082c-08b4-43ba-8e12-d7f3a95b8cb1",
      "metadata": {
        "id": "381f082c-08b4-43ba-8e12-d7f3a95b8cb1",
        "outputId": "6ad495ec-abf0-4df4-c027-ab4d8a8f20ae"
      },
      "outputs": [
        {
          "data": {
            "text/html": [
              "<div>\n",
              "<style scoped>\n",
              "    .dataframe tbody tr th:only-of-type {\n",
              "        vertical-align: middle;\n",
              "    }\n",
              "\n",
              "    .dataframe tbody tr th {\n",
              "        vertical-align: top;\n",
              "    }\n",
              "\n",
              "    .dataframe thead th {\n",
              "        text-align: right;\n",
              "    }\n",
              "</style>\n",
              "<table border=\"1\" class=\"dataframe\">\n",
              "  <thead>\n",
              "    <tr style=\"text-align: right;\">\n",
              "      <th></th>\n",
              "      <th>src</th>\n",
              "      <th>labels</th>\n",
              "      <th>ru_src</th>\n",
              "    </tr>\n",
              "  </thead>\n",
              "  <tbody>\n",
              "    <tr>\n",
              "      <th>2965</th>\n",
              "      <td>[Armed men killed eight people in a raid on a ...</td>\n",
              "      <td>[1, 0, 0, 0, 0, 0, 0, 0, 0, 0, 0, 0, 0, 0, 1, ...</td>\n",
              "      <td>[В субботу вечером вооруженные люди убили восе...</td>\n",
              "    </tr>\n",
              "    <tr>\n",
              "      <th>7792</th>\n",
              "      <td>[The son of the Sultan of Brunei, one of the w...</td>\n",
              "      <td>[0, 0, 0, 0, 1, 0, 1, 0, 0, 0, 0, 0, 0, 0, 0, ...</td>\n",
              "      <td>[Сын султана Брунея, одного из самых богатых л...</td>\n",
              "    </tr>\n",
              "    <tr>\n",
              "      <th>4540</th>\n",
              "      <td>[Creating romantic, sepia-toned images is a ci...</td>\n",
              "      <td>[0, 0, 0, 0, 0, 1, 0, 0, 1, 0, 0, 0, 0, 0, 1, ...</td>\n",
              "      <td>[Теперь, когда у нас есть фильтры Instagram, с...</td>\n",
              "    </tr>\n",
              "    <tr>\n",
              "      <th>2138</th>\n",
              "      <td>[Manchester City midfielder Yaya Toure is a dr...</td>\n",
              "      <td>[0, 0, 0, 1, 0, 0, 0, 0, 0, 1, 0, 0, 0, 0, 0, ...</td>\n",
              "      <td>[По словам генерального директора Марко Фассон...</td>\n",
              "    </tr>\n",
              "    <tr>\n",
              "      <th>932</th>\n",
              "      <td>[(CNN)Editor's Note (July 8, 2015) -- Question...</td>\n",
              "      <td>[0, 0, 0, 0, 0, 0, 0, 0, 0, 0, 0, 0, 0, 0, 1, ...</td>\n",
              "      <td>[(CNN) Примечание редактора (8 июля 2015 г.) —...</td>\n",
              "    </tr>\n",
              "  </tbody>\n",
              "</table>\n",
              "</div>"
            ],
            "text/plain": [
              "                                                    src  \\\n",
              "2965  [Armed men killed eight people in a raid on a ...   \n",
              "7792  [The son of the Sultan of Brunei, one of the w...   \n",
              "4540  [Creating romantic, sepia-toned images is a ci...   \n",
              "2138  [Manchester City midfielder Yaya Toure is a dr...   \n",
              "932   [(CNN)Editor's Note (July 8, 2015) -- Question...   \n",
              "\n",
              "                                                 labels  \\\n",
              "2965  [1, 0, 0, 0, 0, 0, 0, 0, 0, 0, 0, 0, 0, 0, 1, ...   \n",
              "7792  [0, 0, 0, 0, 1, 0, 1, 0, 0, 0, 0, 0, 0, 0, 0, ...   \n",
              "4540  [0, 0, 0, 0, 0, 1, 0, 0, 1, 0, 0, 0, 0, 0, 1, ...   \n",
              "2138  [0, 0, 0, 1, 0, 0, 0, 0, 0, 1, 0, 0, 0, 0, 0, ...   \n",
              "932   [0, 0, 0, 0, 0, 0, 0, 0, 0, 0, 0, 0, 0, 0, 1, ...   \n",
              "\n",
              "                                                 ru_src  \n",
              "2965  [В субботу вечером вооруженные люди убили восе...  \n",
              "7792  [Сын султана Брунея, одного из самых богатых л...  \n",
              "4540  [Теперь, когда у нас есть фильтры Instagram, с...  \n",
              "2138  [По словам генерального директора Марко Фассон...  \n",
              "932   [(CNN) Примечание редактора (8 июля 2015 г.) —...  "
            ]
          },
          "execution_count": 4,
          "metadata": {},
          "output_type": "execute_result"
        }
      ],
      "source": [
        "# загружаем данные\n",
        "data = pd.read_pickle('ext_data.pkl')\n",
        "data.head()"
      ]
    },
    {
      "cell_type": "code",
      "execution_count": null,
      "id": "c242428a-8daf-44da-89c0-d26146b24d9a",
      "metadata": {
        "id": "c242428a-8daf-44da-89c0-d26146b24d9a",
        "outputId": "59bdc7a0-7b92-4bff-f2e6-cf8cd524f904"
      },
      "outputs": [
        {
          "data": {
            "text/plain": [
              "'В субботу вечером вооруженные люди убили восемь человек во время рейда на футбольный фан-клуб Сан-Паулу, который имеет тесные связи с печально известной, ныне закрытой тюрьмой. Полиция сообщила, что свидетели рассказали им, что около полуночи в субботу трое боевиков ворвались в темное и песчаное место, где собирается фан-группа \"Коринтианс\" \"Павильяо 9\", под эстакадой шоссе. Они приказали жертвам лечь лицом вниз на землю и выстрелили семерым в головы. Восьмой мужчина был застрелен, но попытался сбежать, добрался до заправочной станции, а затем был доставлен в ближайшую больницу, где скончался. Вооруженная полиция охраняет штаб-квартиру фан-клуба «Коринтианс»\\xa0Pavilhao 9 в воскресенье утром. Обезумевшая женщина разговаривает по мобильному телефону возле здания, где были казнены семеро мужчин. Полицейский показывает гильзы, собранные на месте стрельбы к западу от Сан-Паулу. Детектив Арлиндо Хосе Неграо исключил драку между конкурирующими группировками фанатов. Однако он не стал раскрывать мотивы нападения, заявив, что это может помешать расследованию. «Через свидетелей мы уже изучаем линию расследования, которая не позволяет нам полагать, что оно было вызвано соперничеством фанатов», — заявил Неграо на пресс-конференции. — У нас даже есть возможные подозреваемые. Пострадавшие в это время готовили барбекю в клубе и мастерили флаги в цветах своей команды для ожидаемого в воскресенье матча между «Коринтианс» и «Палмейрас». Фанатская группа не ответила на несколько телефонных звонков. Pavilhao 9 был основан группой болельщиков «Коринтианс», которые играли в футбол с заключенными в бразильской тюрьме Карандиру, широко известной резней, в результате которой погибли 111 заключенных, по которой был снят фильм. Сейчас тюрьма закрыта. Полиция утверждает, что убийства, произошедшие поздно вечером в субботу, не связаны с каким-либо футбольным соперничеством. Полицейский утешает женщину, которая разговаривает по мобильному телефону возле фан-клуба. Команда «Коринтианс» не ответила на запрос информации, но разместила на своей официальной странице в Facebook слово «траур» на черном фоне. Бывший президент команды и нынешний федеральный конгрессмен Андрес Санчес заявил в социальной сети, что он «глубоко опечален, узнав о том, что произошло в Павильяо 9, с которым у меня была сильная связь с детства». Большая часть футбольного насилия, происходящего на бразильских стадионах или вблизи них, связана с фан-клубами. Полиция часто расследует группы фанатов на предмет связей с торговцами наркотиками. Жертвы готовили барбекю во время подготовки к матчу \"Коринтианс\" против \"Палмейраса\" в воскресенье, когда боевики ворвались в помещение. Бразильская полиция охраняет вход в здание, где группа фанатов изготавливала флаги перед воскресной игрой. «Широко известно, что преступные организации существуют внутри всех фан-клубов. Организованная преступность использует эти группы фанатов как прикрытие для своих злодеяний», — заявил радиостанции CBN Жука Кфури, один из самых известных спортивных комментаторов Бразилии. В прошлом году десятки членов другого фан-клуба «Коринтианс», «Гавиос да Фиель», вторглись в тренировочный центр команды. Возмущенные игрой команды, они напали на сотрудников и схватили перуанского нападающего Паоло Герреро за шею, вынудив других игроков бежать в раздевалку и забаррикадироваться там до прибытия полиции. К сожалению, в настоящее время мы не принимаем комментарии к этой статье.'"
            ]
          },
          "execution_count": 5,
          "metadata": {},
          "output_type": "execute_result"
        }
      ],
      "source": [
        "test_text = ' '.join(data['ru_src'].iloc[0])\n",
        "test_text"
      ]
    },
    {
      "cell_type": "code",
      "execution_count": null,
      "id": "173aa4d9-bf0c-4bed-ab4e-ffa4c646ff76",
      "metadata": {
        "id": "173aa4d9-bf0c-4bed-ab4e-ffa4c646ff76",
        "outputId": "06c0c030-acd8-4e7b-c1eb-7146203cbcd5"
      },
      "outputs": [
        {
          "data": {
            "text/plain": [
              "28"
            ]
          },
          "execution_count": 6,
          "metadata": {},
          "output_type": "execute_result"
        }
      ],
      "source": [
        "len(data['labels'].iloc[0])"
      ]
    },
    {
      "cell_type": "code",
      "execution_count": null,
      "id": "45358d8a-2572-42f7-ad03-b74dba3a4feb",
      "metadata": {
        "scrolled": true,
        "id": "45358d8a-2572-42f7-ad03-b74dba3a4feb",
        "outputId": "4d8c8944-12ec-4d83-a102-11c0dd2d4acc"
      },
      "outputs": [
        {
          "name": "stdout",
          "output_type": "stream",
          "text": [
            "CPU times: user 761 ms, sys: 124 ms, total: 885 ms\n",
            "Wall time: 873 ms\n"
          ]
        },
        {
          "data": {
            "text/plain": [
              "'В субботу вечером вооруженные люди убили восемь человек во время рейда на футбольный фан-клуб Сан-Паулу, который имеет тесные связи с печально известной, ныне закрытой тюрьмой. Полиция сообщила, что свидетели рассказали им, что около полуночи в субботу трое боевиков ворвались в темное и песчаное место, где собирается фан-группа \"Коринтианс\" \"Павильяо 9\", под эстакадой шоссе. Однако он не стал раскрывать мотивы нападения, заявив, что это может помешать расследованию. « Пострадавшие в это время готовили барбекю в клубе и мастерили флаги в цветах своей команды для ожидаемого в воскресенье матча между «Коринтианс» и «Палмейрас». Полицейский утешает женщину, которая разговаривает по мобильному телефону возле фан-клуба. Возмущенные игрой команды, они напали на сотрудников и схватили перуанского нападающего Паоло Герреро за шею, вынудив других игроков бежать в раздевалку и забаррикадироваться там до прибытия полиции.'"
            ]
          },
          "execution_count": 6,
          "metadata": {},
          "output_type": "execute_result"
        }
      ],
      "source": [
        "%%time\n",
        "ext_model(\n",
        "    test_text,\n",
        "    ratio=0.2,\n",
        "    # num_sentences=5\n",
        ")"
      ]
    },
    {
      "cell_type": "code",
      "execution_count": null,
      "id": "6bc18869-d5b0-4d27-8220-63227c70c493",
      "metadata": {
        "id": "6bc18869-d5b0-4d27-8220-63227c70c493",
        "outputId": "afa59fa4-f1e6-44bb-8f12-e5e1d984f975"
      },
      "outputs": [
        {
          "name": "stdout",
          "output_type": "stream",
          "text": [
            "CPU times: user 19 s, sys: 1.34 s, total: 20.4 s\n",
            "Wall time: 2.93 s\n"
          ]
        },
        {
          "data": {
            "text/plain": [
              "'Полиция Бразилии расследует убийство восьми человек в фан-клубе «Коринтианс'"
            ]
          },
          "execution_count": 7,
          "metadata": {},
          "output_type": "execute_result"
        }
      ],
      "source": [
        "%%time\n",
        "get_abstract_summary(\n",
        "    text=test_text,\n",
        "    min_length=10,\n",
        "    max_length=20,\n",
        ")"
      ]
    },
    {
      "cell_type": "code",
      "execution_count": null,
      "id": "170c8cc9-9315-4719-b556-fbce85cc055f",
      "metadata": {
        "id": "170c8cc9-9315-4719-b556-fbce85cc055f"
      },
      "outputs": [],
      "source": []
    },
    {
      "cell_type": "markdown",
      "id": "755919ae-dc33-40fa-b06a-eb1a16b59bd5",
      "metadata": {
        "id": "755919ae-dc33-40fa-b06a-eb1a16b59bd5"
      },
      "source": [
        "# Код перевода"
      ]
    },
    {
      "cell_type": "code",
      "execution_count": null,
      "id": "cb32c573-f78d-4fa8-8edd-0697ca881f1b",
      "metadata": {
        "id": "cb32c573-f78d-4fa8-8edd-0697ca881f1b",
        "outputId": "f22d7671-8077-42f8-ad55-8320ff2ac073"
      },
      "outputs": [
        {
          "data": {
            "text/html": [
              "<div>\n",
              "<style scoped>\n",
              "    .dataframe tbody tr th:only-of-type {\n",
              "        vertical-align: middle;\n",
              "    }\n",
              "\n",
              "    .dataframe tbody tr th {\n",
              "        vertical-align: top;\n",
              "    }\n",
              "\n",
              "    .dataframe thead th {\n",
              "        text-align: right;\n",
              "    }\n",
              "</style>\n",
              "<table border=\"1\" class=\"dataframe\">\n",
              "  <thead>\n",
              "    <tr style=\"text-align: right;\">\n",
              "      <th></th>\n",
              "      <th>src</th>\n",
              "      <th>labels</th>\n",
              "    </tr>\n",
              "  </thead>\n",
              "  <tbody>\n",
              "    <tr>\n",
              "      <th>2965</th>\n",
              "      <td>[Armed men killed eight people in a raid on a ...</td>\n",
              "      <td>[1, 0, 0, 0, 0, 0, 0, 0, 0, 0, 0, 0, 0, 0, 1, ...</td>\n",
              "    </tr>\n",
              "    <tr>\n",
              "      <th>7792</th>\n",
              "      <td>[The son of the Sultan of Brunei, one of the w...</td>\n",
              "      <td>[0, 0, 0, 0, 1, 0, 1, 0, 0, 0, 0, 0, 0, 0, 0, ...</td>\n",
              "    </tr>\n",
              "    <tr>\n",
              "      <th>4540</th>\n",
              "      <td>[Creating romantic, sepia-toned images is a ci...</td>\n",
              "      <td>[0, 0, 0, 0, 0, 1, 0, 0, 1, 0, 0, 0, 0, 0, 1, ...</td>\n",
              "    </tr>\n",
              "    <tr>\n",
              "      <th>2138</th>\n",
              "      <td>[Manchester City midfielder Yaya Toure is a dr...</td>\n",
              "      <td>[0, 0, 0, 1, 0, 0, 0, 0, 0, 1, 0, 0, 0, 0, 0, ...</td>\n",
              "    </tr>\n",
              "    <tr>\n",
              "      <th>932</th>\n",
              "      <td>[(CNN)Editor's Note (July 8, 2015) -- Question...</td>\n",
              "      <td>[0, 0, 0, 0, 0, 0, 0, 0, 0, 0, 0, 0, 0, 0, 1, ...</td>\n",
              "    </tr>\n",
              "    <tr>\n",
              "      <th>...</th>\n",
              "      <td>...</td>\n",
              "      <td>...</td>\n",
              "    </tr>\n",
              "    <tr>\n",
              "      <th>3582</th>\n",
              "      <td>[Lewis Hamilton remains the richest sportsman ...</td>\n",
              "      <td>[1, 0, 0, 0, 0, 0, 0, 0, 0, 0, 0, 0, 0, 1, 1, ...</td>\n",
              "    </tr>\n",
              "    <tr>\n",
              "      <th>1081</th>\n",
              "      <td>[(CNN)China's cybercensors have long used a \"G...</td>\n",
              "      <td>[0, 0, 1, 0, 0, 0, 0, 1, 0, 0, 0, 0, 0, 0, 0, ...</td>\n",
              "    </tr>\n",
              "    <tr>\n",
              "      <th>2354</th>\n",
              "      <td>[Graeme McDowell insisted he would never consi...</td>\n",
              "      <td>[0, 0, 0, 0, 0, 0, 0, 0, 0, 0, 0, 0, 0, 1, 0, ...</td>\n",
              "    </tr>\n",
              "    <tr>\n",
              "      <th>9202</th>\n",
              "      <td>[The pursuit of journalists for paying public ...</td>\n",
              "      <td>[0, 0, 0, 0, 0, 0, 0, 0, 0, 0, 1, 0, 0, 0, 0, ...</td>\n",
              "    </tr>\n",
              "    <tr>\n",
              "      <th>8170</th>\n",
              "      <td>[When planning a romantic trip with his girlfr...</td>\n",
              "      <td>[0, 0, 0, 0, 0, 0, 0, 0, 1, 1, 0, 0, 0, 0, 0, 0]</td>\n",
              "    </tr>\n",
              "  </tbody>\n",
              "</table>\n",
              "<p>1000 rows × 2 columns</p>\n",
              "</div>"
            ],
            "text/plain": [
              "                                                    src  \\\n",
              "2965  [Armed men killed eight people in a raid on a ...   \n",
              "7792  [The son of the Sultan of Brunei, one of the w...   \n",
              "4540  [Creating romantic, sepia-toned images is a ci...   \n",
              "2138  [Manchester City midfielder Yaya Toure is a dr...   \n",
              "932   [(CNN)Editor's Note (July 8, 2015) -- Question...   \n",
              "...                                                 ...   \n",
              "3582  [Lewis Hamilton remains the richest sportsman ...   \n",
              "1081  [(CNN)China's cybercensors have long used a \"G...   \n",
              "2354  [Graeme McDowell insisted he would never consi...   \n",
              "9202  [The pursuit of journalists for paying public ...   \n",
              "8170  [When planning a romantic trip with his girlfr...   \n",
              "\n",
              "                                                 labels  \n",
              "2965  [1, 0, 0, 0, 0, 0, 0, 0, 0, 0, 0, 0, 0, 0, 1, ...  \n",
              "7792  [0, 0, 0, 0, 1, 0, 1, 0, 0, 0, 0, 0, 0, 0, 0, ...  \n",
              "4540  [0, 0, 0, 0, 0, 1, 0, 0, 1, 0, 0, 0, 0, 0, 1, ...  \n",
              "2138  [0, 0, 0, 1, 0, 0, 0, 0, 0, 1, 0, 0, 0, 0, 0, ...  \n",
              "932   [0, 0, 0, 0, 0, 0, 0, 0, 0, 0, 0, 0, 0, 0, 1, ...  \n",
              "...                                                 ...  \n",
              "3582  [1, 0, 0, 0, 0, 0, 0, 0, 0, 0, 0, 0, 0, 1, 1, ...  \n",
              "1081  [0, 0, 1, 0, 0, 0, 0, 1, 0, 0, 0, 0, 0, 0, 0, ...  \n",
              "2354  [0, 0, 0, 0, 0, 0, 0, 0, 0, 0, 0, 0, 0, 1, 0, ...  \n",
              "9202  [0, 0, 0, 0, 0, 0, 0, 0, 0, 0, 1, 0, 0, 0, 0, ...  \n",
              "8170   [0, 0, 0, 0, 0, 0, 0, 0, 1, 1, 0, 0, 0, 0, 0, 0]  \n",
              "\n",
              "[1000 rows x 2 columns]"
            ]
          },
          "execution_count": 5,
          "metadata": {},
          "output_type": "execute_result"
        }
      ],
      "source": [
        "dataset = load_dataset('eReverter/cnn_dailymail_extractive', split='test')\n",
        "data = dataset.to_pandas().drop('tgt', axis=1).sample(1000)\n",
        "data"
      ]
    },
    {
      "cell_type": "code",
      "execution_count": null,
      "id": "10f22652-cdf6-4945-b9e1-2ddd9d70b1e3",
      "metadata": {
        "id": "10f22652-cdf6-4945-b9e1-2ddd9d70b1e3"
      },
      "outputs": [],
      "source": [
        "data['src'] = data['src'].apply(lambda text: text.tolist())\n",
        "data['ru_src'] = data['src'].apply(lambda sentences: [translator.translate(sentence, src='en', dest='ru').text for sentence in sentences])\n",
        "data"
      ]
    },
    {
      "cell_type": "code",
      "execution_count": null,
      "id": "5b88f7ea-9748-436a-b6b2-a865cb416a32",
      "metadata": {
        "id": "5b88f7ea-9748-436a-b6b2-a865cb416a32"
      },
      "outputs": [],
      "source": [
        "data.to_pickle('ext_data.pkl')"
      ]
    }
  ],
  "metadata": {
    "kernelspec": {
      "display_name": "interns_kernel",
      "language": "python",
      "name": "interns_kernel"
    },
    "language_info": {
      "codemirror_mode": {
        "name": "ipython",
        "version": 3
      },
      "file_extension": ".py",
      "mimetype": "text/x-python",
      "name": "python",
      "nbconvert_exporter": "python",
      "pygments_lexer": "ipython3",
      "version": "3.10.14"
    },
    "colab": {
      "provenance": []
    }
  },
  "nbformat": 4,
  "nbformat_minor": 5
}