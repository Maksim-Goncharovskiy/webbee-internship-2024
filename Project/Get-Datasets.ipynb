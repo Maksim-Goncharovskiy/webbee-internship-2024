{
 "cells": [
  {
   "cell_type": "markdown",
   "id": "03888fdb",
   "metadata": {},
   "source": [
    "# Датасеты для экстрактивной суммаризации"
   ]
  },
  {
   "cell_type": "markdown",
   "id": "cd792021",
   "metadata": {},
   "source": [
    "1. DebateSum: https://huggingface.co/datasets/Hellisotherpeople/DebateSum?row=0\n",
    "- 241К строк, есть столбец с экстрактивной суммаризацией(текстом)\n",
    "2. CNN-Dailymail: https://huggingface.co/datasets/eReverter/cnn_dailymail_extractive?row=7¶\n",
    "- В общем 311К строк, есть столбец с маской преложений, которые относятся к экстрактивной суммаризации(В оригинальном датасете CNN только абстрактная суммаризация есть)\n",
    "3. GovReport: https://huggingface.co/datasets/nianlong/long-doc-extractive-summarization-gov-report\n",
    "- 19464 строк, надо разобраться что из себя представляют данные в столбце indices\n",
    "4. Pubmed: https://huggingface.co/datasets/nianlong/long-doc-extractive-summarization-pubmed¶\n",
    "- В общем 130К строк, тексты по медицинской тематике. ?Столбец indices\n",
    "5. Arxiv: https://huggingface.co/datasets/nianlong/long-doc-extractive-summarization-arxiv\n",
    "- Достаточно большой, train > 7Гб, загрузил пока только test и val. ?Столбец indices"
   ]
  },
  {
   "cell_type": "markdown",
   "id": "07113d2b",
   "metadata": {},
   "source": [
    "(6) https://huggingface.co/datasets/dell-research-harvard/newswire - большой датасет из всяких новостных статей. Можно обучить на нём, а тестить, считать метрики на CNN, например."
   ]
  },
  {
   "cell_type": "code",
   "execution_count": 8,
   "id": "95468317",
   "metadata": {},
   "outputs": [],
   "source": [
    "import pandas as pd\n",
    "from datasets import load_dataset"
   ]
  },
  {
   "cell_type": "markdown",
   "id": "f731fa36",
   "metadata": {},
   "source": [
    "## 1. DebateSum - https://huggingface.co/datasets/Hellisotherpeople/DebateSum?row=0"
   ]
  },
  {
   "cell_type": "code",
   "execution_count": 2,
   "id": "08738008",
   "metadata": {},
   "outputs": [
    {
     "data": {
      "application/vnd.jupyter.widget-view+json": {
       "model_id": "82a0873f0f104d39bc6a0b24a1acec97",
       "version_major": 2,
       "version_minor": 0
      },
      "text/plain": [
       "Downloading readme:   0%|          | 0.00/4.25k [00:00<?, ?B/s]"
      ]
     },
     "metadata": {},
     "output_type": "display_data"
    },
    {
     "name": "stdout",
     "output_type": "stream",
     "text": [
      "Downloading and preparing dataset csv/Hellisotherpeople--DebateSum to C:/Users/Максат/.cache/huggingface/datasets/Hellisotherpeople___csv/Hellisotherpeople--DebateSum-d85e26ecd585ba24/0.0.0/6954658bab30a358235fa864b05cf819af0e179325c740e4bc853bcc7ec513e1...\n"
     ]
    },
    {
     "data": {
      "application/vnd.jupyter.widget-view+json": {
       "model_id": "804da950ef60431fb9a79b11ffa0a22d",
       "version_major": 2,
       "version_minor": 0
      },
      "text/plain": [
       "Downloading data files:   0%|          | 0/1 [00:00<?, ?it/s]"
      ]
     },
     "metadata": {},
     "output_type": "display_data"
    },
    {
     "data": {
      "application/vnd.jupyter.widget-view+json": {
       "model_id": "7e9a0dfbbb734381be1780560d15800c",
       "version_major": 2,
       "version_minor": 0
      },
      "text/plain": [
       "Downloading data:   0%|          | 0.00/1.25G [00:00<?, ?B/s]"
      ]
     },
     "metadata": {},
     "output_type": "display_data"
    },
    {
     "data": {
      "application/vnd.jupyter.widget-view+json": {
       "model_id": "7c94ec2991874ddb9fa635f65d21cf19",
       "version_major": 2,
       "version_minor": 0
      },
      "text/plain": [
       "Extracting data files:   0%|          | 0/1 [00:00<?, ?it/s]"
      ]
     },
     "metadata": {},
     "output_type": "display_data"
    },
    {
     "data": {
      "application/vnd.jupyter.widget-view+json": {
       "model_id": "",
       "version_major": 2,
       "version_minor": 0
      },
      "text/plain": [
       "Generating train split: 0 examples [00:00, ? examples/s]"
      ]
     },
     "metadata": {},
     "output_type": "display_data"
    },
    {
     "name": "stdout",
     "output_type": "stream",
     "text": [
      "Dataset csv downloaded and prepared to C:/Users/Максат/.cache/huggingface/datasets/Hellisotherpeople___csv/Hellisotherpeople--DebateSum-d85e26ecd585ba24/0.0.0/6954658bab30a358235fa864b05cf819af0e179325c740e4bc853bcc7ec513e1. Subsequent calls will reuse this data.\n"
     ]
    },
    {
     "data": {
      "application/vnd.jupyter.widget-view+json": {
       "model_id": "4dae5a4f5718472b85665fe26d8d1b28",
       "version_major": 2,
       "version_minor": 0
      },
      "text/plain": [
       "  0%|          | 0/1 [00:00<?, ?it/s]"
      ]
     },
     "metadata": {},
     "output_type": "display_data"
    },
    {
     "data": {
      "text/plain": [
       "DatasetDict({\n",
       "    train: Dataset({\n",
       "        features: ['Unnamed: 0', 'Full-Document', 'Citation', 'Extract', 'Abstract', '#CharsDocument', '#CharsAbstract', '#CharsExtract', '#WordsDocument', '#WordsAbstract', '#WordsExtract', 'AbsCompressionRatio', 'ExtCompressionRatio', 'OriginalDebateFileName', 'DebateCamp', 'Tag', 'Year'],\n",
       "        num_rows: 240566\n",
       "    })\n",
       "})"
      ]
     },
     "execution_count": 2,
     "metadata": {},
     "output_type": "execute_result"
    }
   ],
   "source": [
    "DebateSum = load_dataset(\"Hellisotherpeople/DebateSum\")\n",
    "DebateSum"
   ]
  },
  {
   "cell_type": "code",
   "execution_count": 3,
   "id": "ecd6d491",
   "metadata": {
    "scrolled": false
   },
   "outputs": [
    {
     "data": {
      "text/html": [
       "<div>\n",
       "<style scoped>\n",
       "    .dataframe tbody tr th:only-of-type {\n",
       "        vertical-align: middle;\n",
       "    }\n",
       "\n",
       "    .dataframe tbody tr th {\n",
       "        vertical-align: top;\n",
       "    }\n",
       "\n",
       "    .dataframe thead th {\n",
       "        text-align: right;\n",
       "    }\n",
       "</style>\n",
       "<table border=\"1\" class=\"dataframe\">\n",
       "  <thead>\n",
       "    <tr style=\"text-align: right;\">\n",
       "      <th></th>\n",
       "      <th>Unnamed: 0</th>\n",
       "      <th>Full-Document</th>\n",
       "      <th>Citation</th>\n",
       "      <th>Extract</th>\n",
       "      <th>Abstract</th>\n",
       "      <th>#CharsDocument</th>\n",
       "      <th>#CharsAbstract</th>\n",
       "      <th>#CharsExtract</th>\n",
       "      <th>#WordsDocument</th>\n",
       "      <th>#WordsAbstract</th>\n",
       "      <th>#WordsExtract</th>\n",
       "      <th>AbsCompressionRatio</th>\n",
       "      <th>ExtCompressionRatio</th>\n",
       "      <th>OriginalDebateFileName</th>\n",
       "      <th>DebateCamp</th>\n",
       "      <th>Tag</th>\n",
       "      <th>Year</th>\n",
       "    </tr>\n",
       "  </thead>\n",
       "  <tbody>\n",
       "    <tr>\n",
       "      <th>0</th>\n",
       "      <td>0</td>\n",
       "      <td>How does one write the nation's modernity as t...</td>\n",
       "      <td>Bhabha 1994 (Homi K. Anne F. Rothenberg Profes...</td>\n",
       "      <td>why do nations celebrate their hoariness, not ...</td>\n",
       "      <td>A) The Affirmatives construction of a “Nation-...</td>\n",
       "      <td>1978</td>\n",
       "      <td>147</td>\n",
       "      <td>993</td>\n",
       "      <td>317</td>\n",
       "      <td>22</td>\n",
       "      <td>159</td>\n",
       "      <td>0.069401</td>\n",
       "      <td>0.501577</td>\n",
       "      <td>Postcolonialism Kritik - Gonzaga 2013.html5</td>\n",
       "      <td>Gonzaga (GDI)</td>\n",
       "      <td>Kritiks</td>\n",
       "      <td>2013</td>\n",
       "    </tr>\n",
       "    <tr>\n",
       "      <th>1</th>\n",
       "      <td>1</td>\n",
       "      <td>Modernization theory provided post-war society...</td>\n",
       "      <td>Slater 2004 (David, Professor of Social and Po...</td>\n",
       "      <td>Modernization theory provided post-war society...</td>\n",
       "      <td>Use of the term modernization is a blanket to ...</td>\n",
       "      <td>4400</td>\n",
       "      <td>65</td>\n",
       "      <td>459</td>\n",
       "      <td>689</td>\n",
       "      <td>11</td>\n",
       "      <td>67</td>\n",
       "      <td>0.015965</td>\n",
       "      <td>0.097242</td>\n",
       "      <td>Postcolonialism Kritik - Gonzaga 2013.html5</td>\n",
       "      <td>Gonzaga (GDI)</td>\n",
       "      <td>Kritiks</td>\n",
       "      <td>2013</td>\n",
       "    </tr>\n",
       "    <tr>\n",
       "      <th>2</th>\n",
       "      <td>2</td>\n",
       "      <td>As we have seen in the previous chapter, the e...</td>\n",
       "      <td>Slater 2004 (David, Professor of Social and Po...</td>\n",
       "      <td>, the emergence of the United States as a glob...</td>\n",
       "      <td>The projection of power portrayed of the US ga...</td>\n",
       "      <td>5047</td>\n",
       "      <td>187</td>\n",
       "      <td>2273</td>\n",
       "      <td>784</td>\n",
       "      <td>31</td>\n",
       "      <td>348</td>\n",
       "      <td>0.039541</td>\n",
       "      <td>0.443878</td>\n",
       "      <td>Postcolonialism Kritik - Gonzaga 2013.html5</td>\n",
       "      <td>Gonzaga (GDI)</td>\n",
       "      <td>Kritiks</td>\n",
       "      <td>2013</td>\n",
       "    </tr>\n",
       "    <tr>\n",
       "      <th>3</th>\n",
       "      <td>3</td>\n",
       "      <td>Frederick Jackson Turner (1962: 37-8), in his ...</td>\n",
       "      <td>Slater 2004 (David, Professor of Social and Po...</td>\n",
       "      <td>the process of settlement and colonization bro...</td>\n",
       "      <td>The AFF manifest in a coloniality of American ...</td>\n",
       "      <td>4285</td>\n",
       "      <td>116</td>\n",
       "      <td>2860</td>\n",
       "      <td>675</td>\n",
       "      <td>18</td>\n",
       "      <td>445</td>\n",
       "      <td>0.026667</td>\n",
       "      <td>0.659259</td>\n",
       "      <td>Postcolonialism Kritik - Gonzaga 2013.html5</td>\n",
       "      <td>Gonzaga (GDI)</td>\n",
       "      <td>Kritiks</td>\n",
       "      <td>2013</td>\n",
       "    </tr>\n",
       "    <tr>\n",
       "      <th>4</th>\n",
       "      <td>4</td>\n",
       "      <td>In the beginning colonialism was a product of ...</td>\n",
       "      <td>Quijano 2007 (Aníbal, PhD National University ...</td>\n",
       "      <td>colonialism was a product of a systematic repr...</td>\n",
       "      <td>The assumed cultural norms of economic engagem...</td>\n",
       "      <td>1038</td>\n",
       "      <td>155</td>\n",
       "      <td>683</td>\n",
       "      <td>159</td>\n",
       "      <td>21</td>\n",
       "      <td>106</td>\n",
       "      <td>0.132075</td>\n",
       "      <td>0.666667</td>\n",
       "      <td>Postcolonialism Kritik - Gonzaga 2013.html5</td>\n",
       "      <td>Gonzaga (GDI)</td>\n",
       "      <td>Kritiks</td>\n",
       "      <td>2013</td>\n",
       "    </tr>\n",
       "  </tbody>\n",
       "</table>\n",
       "</div>"
      ],
      "text/plain": [
       "   Unnamed: 0                                      Full-Document  \\\n",
       "0           0  How does one write the nation's modernity as t...   \n",
       "1           1  Modernization theory provided post-war society...   \n",
       "2           2  As we have seen in the previous chapter, the e...   \n",
       "3           3  Frederick Jackson Turner (1962: 37-8), in his ...   \n",
       "4           4  In the beginning colonialism was a product of ...   \n",
       "\n",
       "                                            Citation  \\\n",
       "0  Bhabha 1994 (Homi K. Anne F. Rothenberg Profes...   \n",
       "1  Slater 2004 (David, Professor of Social and Po...   \n",
       "2  Slater 2004 (David, Professor of Social and Po...   \n",
       "3  Slater 2004 (David, Professor of Social and Po...   \n",
       "4  Quijano 2007 (Aníbal, PhD National University ...   \n",
       "\n",
       "                                             Extract  \\\n",
       "0  why do nations celebrate their hoariness, not ...   \n",
       "1  Modernization theory provided post-war society...   \n",
       "2  , the emergence of the United States as a glob...   \n",
       "3  the process of settlement and colonization bro...   \n",
       "4  colonialism was a product of a systematic repr...   \n",
       "\n",
       "                                            Abstract  #CharsDocument  \\\n",
       "0  A) The Affirmatives construction of a “Nation-...            1978   \n",
       "1  Use of the term modernization is a blanket to ...            4400   \n",
       "2  The projection of power portrayed of the US ga...            5047   \n",
       "3  The AFF manifest in a coloniality of American ...            4285   \n",
       "4  The assumed cultural norms of economic engagem...            1038   \n",
       "\n",
       "   #CharsAbstract  #CharsExtract  #WordsDocument  #WordsAbstract  \\\n",
       "0             147            993             317              22   \n",
       "1              65            459             689              11   \n",
       "2             187           2273             784              31   \n",
       "3             116           2860             675              18   \n",
       "4             155            683             159              21   \n",
       "\n",
       "   #WordsExtract  AbsCompressionRatio  ExtCompressionRatio  \\\n",
       "0            159             0.069401             0.501577   \n",
       "1             67             0.015965             0.097242   \n",
       "2            348             0.039541             0.443878   \n",
       "3            445             0.026667             0.659259   \n",
       "4            106             0.132075             0.666667   \n",
       "\n",
       "                        OriginalDebateFileName     DebateCamp      Tag  Year  \n",
       "0  Postcolonialism Kritik - Gonzaga 2013.html5  Gonzaga (GDI)  Kritiks  2013  \n",
       "1  Postcolonialism Kritik - Gonzaga 2013.html5  Gonzaga (GDI)  Kritiks  2013  \n",
       "2  Postcolonialism Kritik - Gonzaga 2013.html5  Gonzaga (GDI)  Kritiks  2013  \n",
       "3  Postcolonialism Kritik - Gonzaga 2013.html5  Gonzaga (GDI)  Kritiks  2013  \n",
       "4  Postcolonialism Kritik - Gonzaga 2013.html5  Gonzaga (GDI)  Kritiks  2013  "
      ]
     },
     "execution_count": 3,
     "metadata": {},
     "output_type": "execute_result"
    }
   ],
   "source": [
    "DebateSum.set_format(type=\"pandas\")\n",
    "debate_df = DebateSum['train'][:]\n",
    "debate_df.head()"
   ]
  },
  {
   "cell_type": "code",
   "execution_count": 4,
   "id": "6a425b89",
   "metadata": {},
   "outputs": [
    {
     "data": {
      "text/plain": [
       "Index(['Unnamed: 0', 'Citation', 'Abstract', '#CharsDocument',\n",
       "       '#CharsAbstract', '#CharsExtract', '#WordsDocument', '#WordsAbstract',\n",
       "       '#WordsExtract', 'AbsCompressionRatio', 'ExtCompressionRatio',\n",
       "       'OriginalDebateFileName', 'DebateCamp', 'Tag', 'Year'],\n",
       "      dtype='object')"
      ]
     },
     "execution_count": 4,
     "metadata": {},
     "output_type": "execute_result"
    }
   ],
   "source": [
    "drop_cols = debate_df.columns[(debate_df.columns!=\"Full-Document\") &  (debate_df.columns!=\"Extract\")]\n",
    "drop_cols"
   ]
  },
  {
   "cell_type": "code",
   "execution_count": 5,
   "id": "23970ffc",
   "metadata": {},
   "outputs": [
    {
     "data": {
      "text/html": [
       "<div>\n",
       "<style scoped>\n",
       "    .dataframe tbody tr th:only-of-type {\n",
       "        vertical-align: middle;\n",
       "    }\n",
       "\n",
       "    .dataframe tbody tr th {\n",
       "        vertical-align: top;\n",
       "    }\n",
       "\n",
       "    .dataframe thead th {\n",
       "        text-align: right;\n",
       "    }\n",
       "</style>\n",
       "<table border=\"1\" class=\"dataframe\">\n",
       "  <thead>\n",
       "    <tr style=\"text-align: right;\">\n",
       "      <th></th>\n",
       "      <th>Full-Document</th>\n",
       "      <th>Extract</th>\n",
       "    </tr>\n",
       "  </thead>\n",
       "  <tbody>\n",
       "    <tr>\n",
       "      <th>0</th>\n",
       "      <td>How does one write the nation's modernity as t...</td>\n",
       "      <td>why do nations celebrate their hoariness, not ...</td>\n",
       "    </tr>\n",
       "    <tr>\n",
       "      <th>1</th>\n",
       "      <td>Modernization theory provided post-war society...</td>\n",
       "      <td>Modernization theory provided post-war society...</td>\n",
       "    </tr>\n",
       "    <tr>\n",
       "      <th>2</th>\n",
       "      <td>As we have seen in the previous chapter, the e...</td>\n",
       "      <td>, the emergence of the United States as a glob...</td>\n",
       "    </tr>\n",
       "    <tr>\n",
       "      <th>3</th>\n",
       "      <td>Frederick Jackson Turner (1962: 37-8), in his ...</td>\n",
       "      <td>the process of settlement and colonization bro...</td>\n",
       "    </tr>\n",
       "    <tr>\n",
       "      <th>4</th>\n",
       "      <td>In the beginning colonialism was a product of ...</td>\n",
       "      <td>colonialism was a product of a systematic repr...</td>\n",
       "    </tr>\n",
       "  </tbody>\n",
       "</table>\n",
       "</div>"
      ],
      "text/plain": [
       "                                       Full-Document  \\\n",
       "0  How does one write the nation's modernity as t...   \n",
       "1  Modernization theory provided post-war society...   \n",
       "2  As we have seen in the previous chapter, the e...   \n",
       "3  Frederick Jackson Turner (1962: 37-8), in his ...   \n",
       "4  In the beginning colonialism was a product of ...   \n",
       "\n",
       "                                             Extract  \n",
       "0  why do nations celebrate their hoariness, not ...  \n",
       "1  Modernization theory provided post-war society...  \n",
       "2  , the emergence of the United States as a glob...  \n",
       "3  the process of settlement and colonization bro...  \n",
       "4  colonialism was a product of a systematic repr...  "
      ]
     },
     "execution_count": 5,
     "metadata": {},
     "output_type": "execute_result"
    }
   ],
   "source": [
    "for col in drop_cols:\n",
    "    debate_df.pop(col)\n",
    "debate_df.head(5)"
   ]
  },
  {
   "cell_type": "code",
   "execution_count": 6,
   "id": "608d9e5d",
   "metadata": {},
   "outputs": [],
   "source": [
    "#debate_df.to_csv(\"DebateSum.csv\")"
   ]
  },
  {
   "cell_type": "markdown",
   "id": "8ca0c365",
   "metadata": {},
   "source": [
    "## 2. CNN-Dailymail - https://huggingface.co/datasets/eReverter/cnn_dailymail_extractive?row=7"
   ]
  },
  {
   "cell_type": "markdown",
   "id": "cc9e5fa9",
   "metadata": {},
   "source": [
    "Вторая(первоначальная и более чистая) версия - https://huggingface.co/datasets/abisee/cnn_dailymail?row=0"
   ]
  },
  {
   "cell_type": "code",
   "execution_count": 7,
   "id": "5190dbed",
   "metadata": {},
   "outputs": [
    {
     "data": {
      "application/vnd.jupyter.widget-view+json": {
       "model_id": "b5628168911049f78a965490b1097c35",
       "version_major": 2,
       "version_minor": 0
      },
      "text/plain": [
       "Downloading readme:   0%|          | 0.00/2.86k [00:00<?, ?B/s]"
      ]
     },
     "metadata": {},
     "output_type": "display_data"
    },
    {
     "name": "stdout",
     "output_type": "stream",
     "text": [
      "Downloading and preparing dataset None/None to C:/Users/Максат/.cache/huggingface/datasets/eReverter___parquet/eReverter--cnn_dailymail_extractive-acc148585d3f84c8/0.0.0/2a3b91fbd88a2c90d1dbbb32b460cf621d31bd5b05b934492fdef7d8d6f236ec...\n"
     ]
    },
    {
     "data": {
      "application/vnd.jupyter.widget-view+json": {
       "model_id": "3f8a7939394643a7ac6b97502486aca4",
       "version_major": 2,
       "version_minor": 0
      },
      "text/plain": [
       "Downloading data files:   0%|          | 0/3 [00:00<?, ?it/s]"
      ]
     },
     "metadata": {},
     "output_type": "display_data"
    },
    {
     "data": {
      "application/vnd.jupyter.widget-view+json": {
       "model_id": "5a5e6dc9d94143529b313006386b2672",
       "version_major": 2,
       "version_minor": 0
      },
      "text/plain": [
       "Downloading data:   0%|          | 0.00/263M [00:00<?, ?B/s]"
      ]
     },
     "metadata": {},
     "output_type": "display_data"
    },
    {
     "data": {
      "application/vnd.jupyter.widget-view+json": {
       "model_id": "e75890c3f8354639b1cc7587c44343ba",
       "version_major": 2,
       "version_minor": 0
      },
      "text/plain": [
       "Downloading data:   0%|          | 0.00/263M [00:00<?, ?B/s]"
      ]
     },
     "metadata": {},
     "output_type": "display_data"
    },
    {
     "data": {
      "application/vnd.jupyter.widget-view+json": {
       "model_id": "64fb911daf7d40c4aaeed7d6bcdfb5da",
       "version_major": 2,
       "version_minor": 0
      },
      "text/plain": [
       "Downloading data:   0%|          | 0.00/265M [00:00<?, ?B/s]"
      ]
     },
     "metadata": {},
     "output_type": "display_data"
    },
    {
     "data": {
      "application/vnd.jupyter.widget-view+json": {
       "model_id": "ab513fe89d5e4d1393e6e6e0aece1d03",
       "version_major": 2,
       "version_minor": 0
      },
      "text/plain": [
       "Downloading data:   0%|          | 0.00/35.4M [00:00<?, ?B/s]"
      ]
     },
     "metadata": {},
     "output_type": "display_data"
    },
    {
     "data": {
      "application/vnd.jupyter.widget-view+json": {
       "model_id": "962a5230fa464c2a90a992da357bf44f",
       "version_major": 2,
       "version_minor": 0
      },
      "text/plain": [
       "Downloading data:   0%|          | 0.00/30.6M [00:00<?, ?B/s]"
      ]
     },
     "metadata": {},
     "output_type": "display_data"
    },
    {
     "data": {
      "application/vnd.jupyter.widget-view+json": {
       "model_id": "cf5e9a09e2844c05b6e9aff413a75aa1",
       "version_major": 2,
       "version_minor": 0
      },
      "text/plain": [
       "Extracting data files:   0%|          | 0/3 [00:00<?, ?it/s]"
      ]
     },
     "metadata": {},
     "output_type": "display_data"
    },
    {
     "data": {
      "application/vnd.jupyter.widget-view+json": {
       "model_id": "",
       "version_major": 2,
       "version_minor": 0
      },
      "text/plain": [
       "Generating train split:   0%|          | 0/287113 [00:00<?, ? examples/s]"
      ]
     },
     "metadata": {},
     "output_type": "display_data"
    },
    {
     "data": {
      "application/vnd.jupyter.widget-view+json": {
       "model_id": "",
       "version_major": 2,
       "version_minor": 0
      },
      "text/plain": [
       "Generating validation split:   0%|          | 0/13368 [00:00<?, ? examples/s]"
      ]
     },
     "metadata": {},
     "output_type": "display_data"
    },
    {
     "data": {
      "application/vnd.jupyter.widget-view+json": {
       "model_id": "",
       "version_major": 2,
       "version_minor": 0
      },
      "text/plain": [
       "Generating test split:   0%|          | 0/11490 [00:00<?, ? examples/s]"
      ]
     },
     "metadata": {},
     "output_type": "display_data"
    },
    {
     "name": "stdout",
     "output_type": "stream",
     "text": [
      "Dataset parquet downloaded and prepared to C:/Users/Максат/.cache/huggingface/datasets/eReverter___parquet/eReverter--cnn_dailymail_extractive-acc148585d3f84c8/0.0.0/2a3b91fbd88a2c90d1dbbb32b460cf621d31bd5b05b934492fdef7d8d6f236ec. Subsequent calls will reuse this data.\n"
     ]
    },
    {
     "data": {
      "application/vnd.jupyter.widget-view+json": {
       "model_id": "bb9e3fc1c0784c348f3f96a9643a5e35",
       "version_major": 2,
       "version_minor": 0
      },
      "text/plain": [
       "  0%|          | 0/3 [00:00<?, ?it/s]"
      ]
     },
     "metadata": {},
     "output_type": "display_data"
    },
    {
     "data": {
      "text/plain": [
       "DatasetDict({\n",
       "    train: Dataset({\n",
       "        features: ['src', 'tgt', 'labels'],\n",
       "        num_rows: 287113\n",
       "    })\n",
       "    validation: Dataset({\n",
       "        features: ['src', 'tgt', 'labels'],\n",
       "        num_rows: 13368\n",
       "    })\n",
       "    test: Dataset({\n",
       "        features: ['src', 'tgt', 'labels'],\n",
       "        num_rows: 11490\n",
       "    })\n",
       "})"
      ]
     },
     "execution_count": 7,
     "metadata": {},
     "output_type": "execute_result"
    }
   ],
   "source": [
    "CNN_Dailymail = load_dataset(\"eReverter/cnn_dailymail_extractive\")\n",
    "CNN_Dailymail"
   ]
  },
  {
   "cell_type": "code",
   "execution_count": 8,
   "id": "68219d0a",
   "metadata": {},
   "outputs": [
    {
     "data": {
      "text/html": [
       "<div>\n",
       "<style scoped>\n",
       "    .dataframe tbody tr th:only-of-type {\n",
       "        vertical-align: middle;\n",
       "    }\n",
       "\n",
       "    .dataframe tbody tr th {\n",
       "        vertical-align: top;\n",
       "    }\n",
       "\n",
       "    .dataframe thead th {\n",
       "        text-align: right;\n",
       "    }\n",
       "</style>\n",
       "<table border=\"1\" class=\"dataframe\">\n",
       "  <thead>\n",
       "    <tr style=\"text-align: right;\">\n",
       "      <th></th>\n",
       "      <th>src</th>\n",
       "      <th>tgt</th>\n",
       "      <th>labels</th>\n",
       "    </tr>\n",
       "  </thead>\n",
       "  <tbody>\n",
       "    <tr>\n",
       "      <th>0</th>\n",
       "      <td>[LONDON, England (Reuters) -- Harry Potter sta...</td>\n",
       "      <td>[Harry Potter star Daniel Radcliffe gets £20M ...</td>\n",
       "      <td>[0, 1, 0, 0, 0, 0, 0, 0, 0, 0, 1, 0, 0, 0, 0, ...</td>\n",
       "    </tr>\n",
       "    <tr>\n",
       "      <th>1</th>\n",
       "      <td>[Editor's note: In our Behind the Scenes serie...</td>\n",
       "      <td>[Mentally ill inmates in Miami are housed on t...</td>\n",
       "      <td>[0, 1, 0, 0, 1, 0, 0, 0, 0, 0, 0, 0, 0, 0, 0, ...</td>\n",
       "    </tr>\n",
       "    <tr>\n",
       "      <th>2</th>\n",
       "      <td>[MINNEAPOLIS, Minnesota (CNN) -- Drivers who w...</td>\n",
       "      <td>[NEW: \"I thought I was going to die,\" driver s...</td>\n",
       "      <td>[0, 0, 1, 0, 0, 0, 0, 0, 0, 0, 0, 0, 0, 0, 0, ...</td>\n",
       "    </tr>\n",
       "    <tr>\n",
       "      <th>3</th>\n",
       "      <td>[WASHINGTON (CNN) -- Doctors removed five smal...</td>\n",
       "      <td>[Five small polyps found during procedure; \"no...</td>\n",
       "      <td>[1, 0, 0, 0, 1, 1, 0, 0, 0, 0, 0, 0, 0, 0, 0, ...</td>\n",
       "    </tr>\n",
       "    <tr>\n",
       "      <th>4</th>\n",
       "      <td>[(CNN)  -- The National Football League has in...</td>\n",
       "      <td>[NEW: NFL chief, Atlanta Falcons owner critica...</td>\n",
       "      <td>[1, 1, 0, 0, 0, 0, 0, 0, 0, 0, 0, 0, 0, 0, 0, ...</td>\n",
       "    </tr>\n",
       "  </tbody>\n",
       "</table>\n",
       "</div>"
      ],
      "text/plain": [
       "                                                 src  \\\n",
       "0  [LONDON, England (Reuters) -- Harry Potter sta...   \n",
       "1  [Editor's note: In our Behind the Scenes serie...   \n",
       "2  [MINNEAPOLIS, Minnesota (CNN) -- Drivers who w...   \n",
       "3  [WASHINGTON (CNN) -- Doctors removed five smal...   \n",
       "4  [(CNN)  -- The National Football League has in...   \n",
       "\n",
       "                                                 tgt  \\\n",
       "0  [Harry Potter star Daniel Radcliffe gets £20M ...   \n",
       "1  [Mentally ill inmates in Miami are housed on t...   \n",
       "2  [NEW: \"I thought I was going to die,\" driver s...   \n",
       "3  [Five small polyps found during procedure; \"no...   \n",
       "4  [NEW: NFL chief, Atlanta Falcons owner critica...   \n",
       "\n",
       "                                              labels  \n",
       "0  [0, 1, 0, 0, 0, 0, 0, 0, 0, 0, 1, 0, 0, 0, 0, ...  \n",
       "1  [0, 1, 0, 0, 1, 0, 0, 0, 0, 0, 0, 0, 0, 0, 0, ...  \n",
       "2  [0, 0, 1, 0, 0, 0, 0, 0, 0, 0, 0, 0, 0, 0, 0, ...  \n",
       "3  [1, 0, 0, 0, 1, 1, 0, 0, 0, 0, 0, 0, 0, 0, 0, ...  \n",
       "4  [1, 1, 0, 0, 0, 0, 0, 0, 0, 0, 0, 0, 0, 0, 0, ...  "
      ]
     },
     "execution_count": 8,
     "metadata": {},
     "output_type": "execute_result"
    }
   ],
   "source": [
    "CNN_Dailymail.set_format(type='pandas')\n",
    "\n",
    "CNN_train_df = CNN_Dailymail['train'][:]\n",
    "CNN_val_df = CNN_Dailymail['validation'][:]\n",
    "CNN_test_df = CNN_Dailymail['test'][:]\n",
    "\n",
    "CNN_train_df.head(5)"
   ]
  },
  {
   "cell_type": "markdown",
   "id": "88626aed",
   "metadata": {},
   "source": [
    "Описание датасета:\n",
    "- `src`: исходный текст\n",
    "- `tgt`: абстрактная суммаризация текста\n",
    "- `labels`: бинарная маска предложений, из которых составляется экстрактивная суммаризация\n",
    "\n",
    "По идее нам будут полезны только столбцы src и labels, но пока оставлю все как есть"
   ]
  },
  {
   "cell_type": "code",
   "execution_count": 10,
   "id": "e052efea",
   "metadata": {},
   "outputs": [],
   "source": [
    "#CNN_train_df.to_csv(\"CNN-2/CNN-train.csv\")\n",
    "#CNN_val_df.to_csv(\"CNN-2/CNN-val.csv\")\n",
    "#CNN_test_df.to_csv(\"CNN-2/CNN-test.csv\")"
   ]
  },
  {
   "cell_type": "code",
   "execution_count": null,
   "id": "ffc065e5",
   "metadata": {},
   "outputs": [],
   "source": []
  },
  {
   "cell_type": "markdown",
   "id": "336b9daa",
   "metadata": {},
   "source": [
    "Следующие датасеты не выходит получить через load_dataset, а через API можно получить только первые несколько строк. Пришлось скачивать json-ы."
   ]
  },
  {
   "cell_type": "markdown",
   "id": "ba66f8b8",
   "metadata": {},
   "source": [
    "## 3. GovReport - https://huggingface.co/datasets/nianlong/long-doc-extractive-summarization-gov-report"
   ]
  },
  {
   "cell_type": "code",
   "execution_count": 7,
   "id": "c0e6e4e4",
   "metadata": {},
   "outputs": [
    {
     "data": {
      "text/html": [
       "<div>\n",
       "<style scoped>\n",
       "    .dataframe tbody tr th:only-of-type {\n",
       "        vertical-align: middle;\n",
       "    }\n",
       "\n",
       "    .dataframe tbody tr th {\n",
       "        vertical-align: top;\n",
       "    }\n",
       "\n",
       "    .dataframe thead th {\n",
       "        text-align: right;\n",
       "    }\n",
       "</style>\n",
       "<table border=\"1\" class=\"dataframe\">\n",
       "  <thead>\n",
       "    <tr style=\"text-align: right;\">\n",
       "      <th></th>\n",
       "      <th>text</th>\n",
       "      <th>summary</th>\n",
       "      <th>indices</th>\n",
       "      <th>score</th>\n",
       "    </tr>\n",
       "  </thead>\n",
       "  <tbody>\n",
       "    <tr>\n",
       "      <th>0</th>\n",
       "      <td>[The rental assistance programs authorized und...</td>\n",
       "      <td>[The Section 8 low-income housing program is r...</td>\n",
       "      <td>[[9, 14, 7, 0, 119, 85, 32, 69, 2, 3, 101, 78,...</td>\n",
       "      <td>[0.575668231839745, 0.5756186547845571, 0.5759...</td>\n",
       "    </tr>\n",
       "    <tr>\n",
       "      <th>1</th>\n",
       "      <td>[In its 2005 opinion United States v. Booker ,...</td>\n",
       "      <td>[Pursuant to the Anti-Drug Abuse Act of 1986, ...</td>\n",
       "      <td>[[164, 3, 255, 0, 153, 238, 123, 144, 124, 234...</td>\n",
       "      <td>[0.5911478200672481, 0.5910184409533751, 0.591...</td>\n",
       "    </tr>\n",
       "    <tr>\n",
       "      <th>2</th>\n",
       "      <td>[The Randolph-Sheppard Act, originally signed ...</td>\n",
       "      <td>[The Randolph-Sheppard Act requires that blind...</td>\n",
       "      <td>[[38, 42, 5, 43, 6, 0], [38, 42, 5, 4, 43, 0],...</td>\n",
       "      <td>[0.5108167770419421, 0.514526862522317, 0.5054...</td>\n",
       "    </tr>\n",
       "    <tr>\n",
       "      <th>3</th>\n",
       "      <td>[C ongress has long sought to ensure that alie...</td>\n",
       "      <td>[The Immigration and Nationality Act (INA) has...</td>\n",
       "      <td>[[73, 8, 13, 6, 105, 19, 17, 56, 26, 113, 80, ...</td>\n",
       "      <td>[0.665898224397371, 0.665363360719874, 0.66489...</td>\n",
       "    </tr>\n",
       "    <tr>\n",
       "      <th>4</th>\n",
       "      <td>[The 111 th Congress is considering legislatio...</td>\n",
       "      <td>[Legislation to augment telework in executive ...</td>\n",
       "      <td>[[86, 100, 78, 87, 103, 79, 91, 76, 101, 89, 1...</td>\n",
       "      <td>[0.879655545240251, 0.8793091955764271, 0.8793...</td>\n",
       "    </tr>\n",
       "  </tbody>\n",
       "</table>\n",
       "</div>"
      ],
      "text/plain": [
       "                                                text  \\\n",
       "0  [The rental assistance programs authorized und...   \n",
       "1  [In its 2005 opinion United States v. Booker ,...   \n",
       "2  [The Randolph-Sheppard Act, originally signed ...   \n",
       "3  [C ongress has long sought to ensure that alie...   \n",
       "4  [The 111 th Congress is considering legislatio...   \n",
       "\n",
       "                                             summary  \\\n",
       "0  [The Section 8 low-income housing program is r...   \n",
       "1  [Pursuant to the Anti-Drug Abuse Act of 1986, ...   \n",
       "2  [The Randolph-Sheppard Act requires that blind...   \n",
       "3  [The Immigration and Nationality Act (INA) has...   \n",
       "4  [Legislation to augment telework in executive ...   \n",
       "\n",
       "                                             indices  \\\n",
       "0  [[9, 14, 7, 0, 119, 85, 32, 69, 2, 3, 101, 78,...   \n",
       "1  [[164, 3, 255, 0, 153, 238, 123, 144, 124, 234...   \n",
       "2  [[38, 42, 5, 43, 6, 0], [38, 42, 5, 4, 43, 0],...   \n",
       "3  [[73, 8, 13, 6, 105, 19, 17, 56, 26, 113, 80, ...   \n",
       "4  [[86, 100, 78, 87, 103, 79, 91, 76, 101, 89, 1...   \n",
       "\n",
       "                                               score  \n",
       "0  [0.575668231839745, 0.5756186547845571, 0.5759...  \n",
       "1  [0.5911478200672481, 0.5910184409533751, 0.591...  \n",
       "2  [0.5108167770419421, 0.514526862522317, 0.5054...  \n",
       "3  [0.665898224397371, 0.665363360719874, 0.66489...  \n",
       "4  [0.879655545240251, 0.8793091955764271, 0.8793...  "
      ]
     },
     "execution_count": 7,
     "metadata": {},
     "output_type": "execute_result"
    }
   ],
   "source": [
    "gov_train_df = pd.read_json(\"train.jsonl\", lines=True)\n",
    "gov_val_df = pd.read_json(\"val.jsonl\", lines=True)\n",
    "gov_test_df = pd.read_json(\"test.jsonl\", lines=True)\n",
    "gov_train_df.head()"
   ]
  },
  {
   "cell_type": "code",
   "execution_count": 8,
   "id": "db8ec7b2",
   "metadata": {},
   "outputs": [],
   "source": [
    "gov_train_df.to_csv(\"GovReport-train.csv\")"
   ]
  },
  {
   "cell_type": "code",
   "execution_count": 11,
   "id": "0235741a",
   "metadata": {},
   "outputs": [],
   "source": [
    "gov_val_df.to_csv(\"GovReport-val.csv\")"
   ]
  },
  {
   "cell_type": "code",
   "execution_count": 12,
   "id": "8202538d",
   "metadata": {},
   "outputs": [],
   "source": [
    "gov_test_df.to_csv(\"GovReport-test.csv\")"
   ]
  },
  {
   "cell_type": "markdown",
   "id": "fb82f15c",
   "metadata": {},
   "source": [
    "## 4. Pubmed - https://huggingface.co/datasets/nianlong/long-doc-extractive-summarization-pubmed"
   ]
  },
  {
   "cell_type": "code",
   "execution_count": 2,
   "id": "a74c8dda",
   "metadata": {},
   "outputs": [
    {
     "data": {
      "text/html": [
       "<div>\n",
       "<style scoped>\n",
       "    .dataframe tbody tr th:only-of-type {\n",
       "        vertical-align: middle;\n",
       "    }\n",
       "\n",
       "    .dataframe tbody tr th {\n",
       "        vertical-align: top;\n",
       "    }\n",
       "\n",
       "    .dataframe thead th {\n",
       "        text-align: right;\n",
       "    }\n",
       "</style>\n",
       "<table border=\"1\" class=\"dataframe\">\n",
       "  <thead>\n",
       "    <tr style=\"text-align: right;\">\n",
       "      <th></th>\n",
       "      <th>text</th>\n",
       "      <th>summary</th>\n",
       "      <th>indices</th>\n",
       "      <th>score</th>\n",
       "    </tr>\n",
       "  </thead>\n",
       "  <tbody>\n",
       "    <tr>\n",
       "      <th>0</th>\n",
       "      <td>[a recent systematic analysis showed that in 2...</td>\n",
       "      <td>[background : the present study was carried ou...</td>\n",
       "      <td>[[115, 108, 152, 114, 120, 118], [115, 108, 15...</td>\n",
       "      <td>[0.5892528524107471, 0.585056226698186, 0.5789...</td>\n",
       "    </tr>\n",
       "    <tr>\n",
       "      <th>1</th>\n",
       "      <td>[it occurs in more than 50% of patients and ma...</td>\n",
       "      <td>[backgroundanemia in patients with cancer who ...</td>\n",
       "      <td>[[52, 53, 9, 72, 40, 35, 3], [52, 53, 9, 72, 2...</td>\n",
       "      <td>[0.5943213570658511, 0.5943213570658511, 0.585...</td>\n",
       "    </tr>\n",
       "    <tr>\n",
       "      <th>2</th>\n",
       "      <td>[tardive dystonia ( td ) , a rarer side effect...</td>\n",
       "      <td>[tardive dystonia ( td ) is a serious side eff...</td>\n",
       "      <td>[[28, 0, 26, 27, 3, 2], [28, 0, 2, 26, 27], [2...</td>\n",
       "      <td>[0.414947056087242, 0.41404033433018905, 0.386...</td>\n",
       "    </tr>\n",
       "    <tr>\n",
       "      <th>3</th>\n",
       "      <td>[lepidoptera include agricultural pests that ,...</td>\n",
       "      <td>[many lepidopteran insects are agricultural pe...</td>\n",
       "      <td>[[0, 31, 23, 170, 13], [169, 31, 23, 0, 13], [...</td>\n",
       "      <td>[0.398238269666841, 0.38964992389649905, 0.387...</td>\n",
       "    </tr>\n",
       "    <tr>\n",
       "      <th>4</th>\n",
       "      <td>[syncope is caused by transient diffuse cerebr...</td>\n",
       "      <td>[we present an unusual case of recurrent cough...</td>\n",
       "      <td>[[4, 8, 3, 5, 28, 18, 37], [4, 8, 34, 5, 18, 3...</td>\n",
       "      <td>[0.46287187529702506, 0.46045548654244306, 0.4...</td>\n",
       "    </tr>\n",
       "  </tbody>\n",
       "</table>\n",
       "</div>"
      ],
      "text/plain": [
       "                                                text  \\\n",
       "0  [a recent systematic analysis showed that in 2...   \n",
       "1  [it occurs in more than 50% of patients and ma...   \n",
       "2  [tardive dystonia ( td ) , a rarer side effect...   \n",
       "3  [lepidoptera include agricultural pests that ,...   \n",
       "4  [syncope is caused by transient diffuse cerebr...   \n",
       "\n",
       "                                             summary  \\\n",
       "0  [background : the present study was carried ou...   \n",
       "1  [backgroundanemia in patients with cancer who ...   \n",
       "2  [tardive dystonia ( td ) is a serious side eff...   \n",
       "3  [many lepidopteran insects are agricultural pe...   \n",
       "4  [we present an unusual case of recurrent cough...   \n",
       "\n",
       "                                             indices  \\\n",
       "0  [[115, 108, 152, 114, 120, 118], [115, 108, 15...   \n",
       "1  [[52, 53, 9, 72, 40, 35, 3], [52, 53, 9, 72, 2...   \n",
       "2  [[28, 0, 26, 27, 3, 2], [28, 0, 2, 26, 27], [2...   \n",
       "3  [[0, 31, 23, 170, 13], [169, 31, 23, 0, 13], [...   \n",
       "4  [[4, 8, 3, 5, 28, 18, 37], [4, 8, 34, 5, 18, 3...   \n",
       "\n",
       "                                               score  \n",
       "0  [0.5892528524107471, 0.585056226698186, 0.5789...  \n",
       "1  [0.5943213570658511, 0.5943213570658511, 0.585...  \n",
       "2  [0.414947056087242, 0.41404033433018905, 0.386...  \n",
       "3  [0.398238269666841, 0.38964992389649905, 0.387...  \n",
       "4  [0.46287187529702506, 0.46045548654244306, 0.4...  "
      ]
     },
     "execution_count": 2,
     "metadata": {},
     "output_type": "execute_result"
    }
   ],
   "source": [
    "pubmed_train_df = pd.read_json(\"train.jsonl\", lines=True)\n",
    "pubmed_val_df = pd.read_json(\"val.jsonl\", lines=True)\n",
    "pubmed_test_df = pd.read_json(\"test.jsonl\", lines=True)\n",
    "pubmed_train_df.head()"
   ]
  },
  {
   "cell_type": "code",
   "execution_count": 3,
   "id": "22642f02",
   "metadata": {},
   "outputs": [],
   "source": [
    "pubmed_train_df.to_csv(\"Pubmed-train.csv\")"
   ]
  },
  {
   "cell_type": "code",
   "execution_count": 4,
   "id": "9e5fb502",
   "metadata": {},
   "outputs": [],
   "source": [
    "pubmed_val_df.to_csv(\"Pubmed-val.csv\")"
   ]
  },
  {
   "cell_type": "code",
   "execution_count": 5,
   "id": "00d4361a",
   "metadata": {},
   "outputs": [],
   "source": [
    "pubmed_test_df.to_csv(\"Pubmed-test.csv\")"
   ]
  },
  {
   "cell_type": "code",
   "execution_count": null,
   "id": "43d482f9",
   "metadata": {},
   "outputs": [],
   "source": []
  },
  {
   "cell_type": "markdown",
   "id": "a9150565",
   "metadata": {},
   "source": [
    "## 5. Arxiv - https://huggingface.co/datasets/nianlong/long-doc-extractive-summarization-arxiv"
   ]
  },
  {
   "cell_type": "markdown",
   "id": "5417c76b",
   "metadata": {},
   "source": [
    "Скачал только val и test части датасета."
   ]
  },
  {
   "cell_type": "code",
   "execution_count": 21,
   "id": "3402ddf5",
   "metadata": {},
   "outputs": [
    {
     "data": {
      "text/html": [
       "<div>\n",
       "<style scoped>\n",
       "    .dataframe tbody tr th:only-of-type {\n",
       "        vertical-align: middle;\n",
       "    }\n",
       "\n",
       "    .dataframe tbody tr th {\n",
       "        vertical-align: top;\n",
       "    }\n",
       "\n",
       "    .dataframe thead th {\n",
       "        text-align: right;\n",
       "    }\n",
       "</style>\n",
       "<table border=\"1\" class=\"dataframe\">\n",
       "  <thead>\n",
       "    <tr style=\"text-align: right;\">\n",
       "      <th></th>\n",
       "      <th>text</th>\n",
       "      <th>summary</th>\n",
       "      <th>sorted_indices</th>\n",
       "    </tr>\n",
       "  </thead>\n",
       "  <tbody>\n",
       "    <tr>\n",
       "      <th>0</th>\n",
       "      <td>[the interest in anchoring phenomena and pheno...</td>\n",
       "      <td>[we study the phase behavior of a nematic liqu...</td>\n",
       "      <td>[233, 22, 84, 228, 92, 192, 27, 43, 20, 65, 18...</td>\n",
       "    </tr>\n",
       "    <tr>\n",
       "      <th>1</th>\n",
       "      <td>[galaxy clusters , as the largest peaks in the...</td>\n",
       "      <td>[determining the scaling relations between gal...</td>\n",
       "      <td>[578, 29, 136, 583, 30, 99, 594, 590, 508, 85,...</td>\n",
       "    </tr>\n",
       "    <tr>\n",
       "      <th>2</th>\n",
       "      <td>[quantum correlations between components of a ...</td>\n",
       "      <td>[we show how to control spatial quantum correl...</td>\n",
       "      <td>[26, 15, 32, 138, 3, 18, 38, 4, 136, 146, 13, ...</td>\n",
       "    </tr>\n",
       "    <tr>\n",
       "      <th>3</th>\n",
       "      <td>[methanol masers are often found in star - for...</td>\n",
       "      <td>[class  i methanol masers are believed to be p...</td>\n",
       "      <td>[157, 73, 141, 154, 86, 42, 156, 57, 115, 135,...</td>\n",
       "    </tr>\n",
       "    <tr>\n",
       "      <th>4</th>\n",
       "      <td>[interdisciplinary research has recently gaine...</td>\n",
       "      <td>[nowadays , scientific challenges usually requ...</td>\n",
       "      <td>[95, 74, 8, 7, 23, 26, 93, 78, 6, 101, 88, 5, ...</td>\n",
       "    </tr>\n",
       "  </tbody>\n",
       "</table>\n",
       "</div>"
      ],
      "text/plain": [
       "                                                text  \\\n",
       "0  [the interest in anchoring phenomena and pheno...   \n",
       "1  [galaxy clusters , as the largest peaks in the...   \n",
       "2  [quantum correlations between components of a ...   \n",
       "3  [methanol masers are often found in star - for...   \n",
       "4  [interdisciplinary research has recently gaine...   \n",
       "\n",
       "                                             summary  \\\n",
       "0  [we study the phase behavior of a nematic liqu...   \n",
       "1  [determining the scaling relations between gal...   \n",
       "2  [we show how to control spatial quantum correl...   \n",
       "3  [class  i methanol masers are believed to be p...   \n",
       "4  [nowadays , scientific challenges usually requ...   \n",
       "\n",
       "                                      sorted_indices  \n",
       "0  [233, 22, 84, 228, 92, 192, 27, 43, 20, 65, 18...  \n",
       "1  [578, 29, 136, 583, 30, 99, 594, 590, 508, 85,...  \n",
       "2  [26, 15, 32, 138, 3, 18, 38, 4, 136, 146, 13, ...  \n",
       "3  [157, 73, 141, 154, 86, 42, 156, 57, 115, 135,...  \n",
       "4  [95, 74, 8, 7, 23, 26, 93, 78, 6, 101, 88, 5, ...  "
      ]
     },
     "execution_count": 21,
     "metadata": {},
     "output_type": "execute_result"
    }
   ],
   "source": [
    "arxiv_val_df = pd.read_json(\"val.jsonl\", lines=True)\n",
    "arxiv_val_df.head()"
   ]
  },
  {
   "cell_type": "code",
   "execution_count": 22,
   "id": "f32e3021",
   "metadata": {},
   "outputs": [],
   "source": [
    "arxiv_val_df.to_csv(\"Arxiv/Arxiv-val.csv\")"
   ]
  },
  {
   "cell_type": "code",
   "execution_count": 23,
   "id": "292f45db",
   "metadata": {},
   "outputs": [
    {
     "data": {
      "text/html": [
       "<div>\n",
       "<style scoped>\n",
       "    .dataframe tbody tr th:only-of-type {\n",
       "        vertical-align: middle;\n",
       "    }\n",
       "\n",
       "    .dataframe tbody tr th {\n",
       "        vertical-align: top;\n",
       "    }\n",
       "\n",
       "    .dataframe thead th {\n",
       "        text-align: right;\n",
       "    }\n",
       "</style>\n",
       "<table border=\"1\" class=\"dataframe\">\n",
       "  <thead>\n",
       "    <tr style=\"text-align: right;\">\n",
       "      <th></th>\n",
       "      <th>text</th>\n",
       "      <th>summary</th>\n",
       "      <th>sorted_indices</th>\n",
       "    </tr>\n",
       "  </thead>\n",
       "  <tbody>\n",
       "    <tr>\n",
       "      <th>0</th>\n",
       "      <td>[for about 20 years the problem of properties ...</td>\n",
       "      <td>[the short - term periodicities of the daily s...</td>\n",
       "      <td>[218, 217, 31, 33, 195, 216, 161, 203, 6, 125,...</td>\n",
       "    </tr>\n",
       "    <tr>\n",
       "      <th>1</th>\n",
       "      <td>[it is believed that the direct detection of g...</td>\n",
       "      <td>[we study the detectability of circular polari...</td>\n",
       "      <td>[149, 6, 147, 146, 19, 36, 62, 14, 98, 16, 144...</td>\n",
       "    </tr>\n",
       "    <tr>\n",
       "      <th>2</th>\n",
       "      <td>[as a common quantum phenomenon , the tunnelin...</td>\n",
       "      <td>[starting from the wkb approximation , a new b...</td>\n",
       "      <td>[79, 12, 10, 84, 22, 13, 23, 73, 25, 52, 77, 8...</td>\n",
       "    </tr>\n",
       "    <tr>\n",
       "      <th>3</th>\n",
       "      <td>[for the hybrid monte carlo algorithm ( hmc)@x...</td>\n",
       "      <td>[we study a novel class of numerical integrato...</td>\n",
       "      <td>[10, 18, 8, 72, 14, 27, 85, 0, 54, 96, 82, 90,...</td>\n",
       "    </tr>\n",
       "    <tr>\n",
       "      <th>4</th>\n",
       "      <td>[recently it was discovered that feynman integ...</td>\n",
       "      <td>[new methods for obtaining functional equation...</td>\n",
       "      <td>[163, 132, 0, 88, 4, 5, 17, 21, 148, 141, 161,...</td>\n",
       "    </tr>\n",
       "  </tbody>\n",
       "</table>\n",
       "</div>"
      ],
      "text/plain": [
       "                                                text  \\\n",
       "0  [for about 20 years the problem of properties ...   \n",
       "1  [it is believed that the direct detection of g...   \n",
       "2  [as a common quantum phenomenon , the tunnelin...   \n",
       "3  [for the hybrid monte carlo algorithm ( hmc)@x...   \n",
       "4  [recently it was discovered that feynman integ...   \n",
       "\n",
       "                                             summary  \\\n",
       "0  [the short - term periodicities of the daily s...   \n",
       "1  [we study the detectability of circular polari...   \n",
       "2  [starting from the wkb approximation , a new b...   \n",
       "3  [we study a novel class of numerical integrato...   \n",
       "4  [new methods for obtaining functional equation...   \n",
       "\n",
       "                                      sorted_indices  \n",
       "0  [218, 217, 31, 33, 195, 216, 161, 203, 6, 125,...  \n",
       "1  [149, 6, 147, 146, 19, 36, 62, 14, 98, 16, 144...  \n",
       "2  [79, 12, 10, 84, 22, 13, 23, 73, 25, 52, 77, 8...  \n",
       "3  [10, 18, 8, 72, 14, 27, 85, 0, 54, 96, 82, 90,...  \n",
       "4  [163, 132, 0, 88, 4, 5, 17, 21, 148, 141, 161,...  "
      ]
     },
     "execution_count": 23,
     "metadata": {},
     "output_type": "execute_result"
    }
   ],
   "source": [
    "arxiv_test_df = pd.read_json(\"test.jsonl\", lines=True)\n",
    "arxiv_test_df.head()"
   ]
  },
  {
   "cell_type": "code",
   "execution_count": 24,
   "id": "f738a7f9",
   "metadata": {},
   "outputs": [],
   "source": [
    "arxiv_test_df.to_csv(\"Arxiv/Arxiv-test.csv\")"
   ]
  },
  {
   "cell_type": "markdown",
   "id": "ba09e39c",
   "metadata": {},
   "source": [
    "## Newswire - большой датасет, https://huggingface.co/datasets/dell-research-harvard/newswire\n",
    "Возьмем пока что первые 115К строк."
   ]
  },
  {
   "cell_type": "code",
   "execution_count": 2,
   "id": "5153e6c0",
   "metadata": {},
   "outputs": [],
   "source": [
    "import requests\n",
    "import json"
   ]
  },
  {
   "cell_type": "code",
   "execution_count": 6,
   "id": "0fbbdbb5",
   "metadata": {},
   "outputs": [
    {
     "data": {
      "text/plain": [
       "<Response [200]>"
      ]
     },
     "execution_count": 6,
     "metadata": {},
     "output_type": "execute_result"
    }
   ],
   "source": [
    "response = requests.get(\"https://huggingface.co/api/datasets/dell-research-harvard/newswire/parquet/default/train/0.parquet\")\n",
    "response"
   ]
  },
  {
   "cell_type": "code",
   "execution_count": 11,
   "id": "9f6d9e07",
   "metadata": {},
   "outputs": [],
   "source": [
    "with open(\"newswire.parquet\", 'wb') as file:\n",
    "    file.write(response.content)"
   ]
  },
  {
   "cell_type": "code",
   "execution_count": 12,
   "id": "04f0529a",
   "metadata": {},
   "outputs": [
    {
     "data": {
      "text/html": [
       "<div>\n",
       "<style scoped>\n",
       "    .dataframe tbody tr th:only-of-type {\n",
       "        vertical-align: middle;\n",
       "    }\n",
       "\n",
       "    .dataframe tbody tr th {\n",
       "        vertical-align: top;\n",
       "    }\n",
       "\n",
       "    .dataframe thead th {\n",
       "        text-align: right;\n",
       "    }\n",
       "</style>\n",
       "<table border=\"1\" class=\"dataframe\">\n",
       "  <thead>\n",
       "    <tr style=\"text-align: right;\">\n",
       "      <th></th>\n",
       "      <th>ca_topic</th>\n",
       "      <th>wire_state</th>\n",
       "      <th>protests</th>\n",
       "      <th>civil_rights</th>\n",
       "      <th>wire_location_notes</th>\n",
       "      <th>people_mentioned</th>\n",
       "      <th>newspaper_metadata</th>\n",
       "      <th>ner_labels</th>\n",
       "      <th>wire_coordinates</th>\n",
       "      <th>crime</th>\n",
       "      <th>...</th>\n",
       "      <th>antitrust</th>\n",
       "      <th>ner_words</th>\n",
       "      <th>byline</th>\n",
       "      <th>wire_city</th>\n",
       "      <th>year</th>\n",
       "      <th>govt_regulation</th>\n",
       "      <th>article</th>\n",
       "      <th>dates</th>\n",
       "      <th>cluster_size</th>\n",
       "      <th>wire_country</th>\n",
       "    </tr>\n",
       "  </thead>\n",
       "  <tbody>\n",
       "    <tr>\n",
       "      <th>0</th>\n",
       "      <td>Health</td>\n",
       "      <td></td>\n",
       "      <td>0</td>\n",
       "      <td>0</td>\n",
       "      <td></td>\n",
       "      <td>[]</td>\n",
       "      <td>[{'lccn': 'sn89066350', 'newspaper_city': 'chi...</td>\n",
       "      <td>[O, O, O, O, O, O, O, O, O, O, O, O, O, O, O, ...</td>\n",
       "      <td>[]</td>\n",
       "      <td>0</td>\n",
       "      <td>...</td>\n",
       "      <td>0</td>\n",
       "      <td>[upon, our, country, We, are, at, peace, with,...</td>\n",
       "      <td></td>\n",
       "      <td></td>\n",
       "      <td>1878</td>\n",
       "      <td>0</td>\n",
       "      <td>upon our country.\\n\\n\\nWe are at peace with al...</td>\n",
       "      <td>[Dec-19-1878, Dec-04-1878, Dec-02-1878, Dec-05...</td>\n",
       "      <td>22</td>\n",
       "      <td></td>\n",
       "    </tr>\n",
       "    <tr>\n",
       "      <th>1</th>\n",
       "      <td>Federal Government Operations</td>\n",
       "      <td>new york</td>\n",
       "      <td>0</td>\n",
       "      <td>0</td>\n",
       "      <td></td>\n",
       "      <td>[]</td>\n",
       "      <td>[{'lccn': 'sn84023963', 'newspaper_city': 'jas...</td>\n",
       "      <td>[O, O, O, B-ORG, B-LOC, I-LOC, O, B-PER, O, O,...</td>\n",
       "      <td>[40.71427, -74.00597]</td>\n",
       "      <td>0</td>\n",
       "      <td>...</td>\n",
       "      <td>0</td>\n",
       "      <td>[Special, to, the, Star, NEW, York, Oct, 1, TH...</td>\n",
       "      <td></td>\n",
       "      <td>New York</td>\n",
       "      <td>1878</td>\n",
       "      <td>0</td>\n",
       "      <td>Special to the Star.\\n\\n\\nNEW York, Oct. 1.-TH...</td>\n",
       "      <td>[Nov-15-1878, Oct-25-1878, Oct-31-1878, Oct-24...</td>\n",
       "      <td>8</td>\n",
       "      <td>United States</td>\n",
       "    </tr>\n",
       "    <tr>\n",
       "      <th>2</th>\n",
       "      <td>Fires</td>\n",
       "      <td>minnesota</td>\n",
       "      <td>0</td>\n",
       "      <td>0</td>\n",
       "      <td></td>\n",
       "      <td>[{'person_gender': 'man', 'person_name': 'Cadw...</td>\n",
       "      <td>[{'lccn': 'sn85033078', 'newspaper_city': 'gra...</td>\n",
       "      <td>[B-LOC, B-LOC, O, B-PER, O, O, O, O, O, O, O, ...</td>\n",
       "      <td>[44.97997, -93.26384]</td>\n",
       "      <td>0</td>\n",
       "      <td>...</td>\n",
       "      <td>0</td>\n",
       "      <td>[MNSEAPoLIs, MIMI, May, 2, At, z, o, clock, th...</td>\n",
       "      <td></td>\n",
       "      <td>Minneapolis</td>\n",
       "      <td>1878</td>\n",
       "      <td>0</td>\n",
       "      <td>MNSEAPoLIs, MIMI, May 2.-At z\\no'clock this ev...</td>\n",
       "      <td>[May-03-1878, May-04-1878, May-09-1878, May-15...</td>\n",
       "      <td>12</td>\n",
       "      <td>United States</td>\n",
       "    </tr>\n",
       "    <tr>\n",
       "      <th>3</th>\n",
       "      <td>Churches and Religion</td>\n",
       "      <td></td>\n",
       "      <td>0</td>\n",
       "      <td>0</td>\n",
       "      <td></td>\n",
       "      <td>[]</td>\n",
       "      <td>[{'lccn': 'sn87090488', 'newspaper_city': 'vic...</td>\n",
       "      <td>[B-LOC, O, B-PER, O, O, I-MISC, O, O, O, O, B-...</td>\n",
       "      <td>[41.89193, 12.51133]</td>\n",
       "      <td>0</td>\n",
       "      <td>...</td>\n",
       "      <td>0</td>\n",
       "      <td>[RoNE, March, 2, s, A, Consistory, was, held, ...</td>\n",
       "      <td></td>\n",
       "      <td>Rome</td>\n",
       "      <td>1878</td>\n",
       "      <td>0</td>\n",
       "      <td>RoNE, March 2s.--A Consistory was held\\nat the...</td>\n",
       "      <td>[Mar-29-1878, Mar-28-1878, Apr-05-1878]</td>\n",
       "      <td>8</td>\n",
       "      <td>Italy</td>\n",
       "    </tr>\n",
       "    <tr>\n",
       "      <th>4</th>\n",
       "      <td>Agriculture</td>\n",
       "      <td></td>\n",
       "      <td>0</td>\n",
       "      <td>0</td>\n",
       "      <td></td>\n",
       "      <td>[]</td>\n",
       "      <td>[{'lccn': 'sn82014805', 'newspaper_city': 'wil...</td>\n",
       "      <td>[O, O, B-ORG, B-LOC, I-ORG, O, O, O, O, O, O, ...</td>\n",
       "      <td>[]</td>\n",
       "      <td>0</td>\n",
       "      <td>...</td>\n",
       "      <td>0</td>\n",
       "      <td>[From, the, Carrolton, Mo, Democrat, The, last...</td>\n",
       "      <td>[From the Carrolton (Mo.) Democrat</td>\n",
       "      <td></td>\n",
       "      <td>1878</td>\n",
       "      <td>0</td>\n",
       "      <td>From the Carrolton (Mo.) Democrat\\n\\n\\nThe las...</td>\n",
       "      <td>[Jul-30-1878, Sep-13-1878, Aug-01-1878, Nov-07...</td>\n",
       "      <td>11</td>\n",
       "      <td></td>\n",
       "    </tr>\n",
       "  </tbody>\n",
       "</table>\n",
       "<p>5 rows × 22 columns</p>\n",
       "</div>"
      ],
      "text/plain": [
       "                        ca_topic wire_state  protests  civil_rights  \\\n",
       "0                         Health                    0             0   \n",
       "1  Federal Government Operations   new york         0             0   \n",
       "2                          Fires  minnesota         0             0   \n",
       "3          Churches and Religion                    0             0   \n",
       "4                    Agriculture                    0             0   \n",
       "\n",
       "  wire_location_notes                                   people_mentioned  \\\n",
       "0                                                                     []   \n",
       "1                                                                     []   \n",
       "2                      [{'person_gender': 'man', 'person_name': 'Cadw...   \n",
       "3                                                                     []   \n",
       "4                                                                     []   \n",
       "\n",
       "                                  newspaper_metadata  \\\n",
       "0  [{'lccn': 'sn89066350', 'newspaper_city': 'chi...   \n",
       "1  [{'lccn': 'sn84023963', 'newspaper_city': 'jas...   \n",
       "2  [{'lccn': 'sn85033078', 'newspaper_city': 'gra...   \n",
       "3  [{'lccn': 'sn87090488', 'newspaper_city': 'vic...   \n",
       "4  [{'lccn': 'sn82014805', 'newspaper_city': 'wil...   \n",
       "\n",
       "                                          ner_labels       wire_coordinates  \\\n",
       "0  [O, O, O, O, O, O, O, O, O, O, O, O, O, O, O, ...                     []   \n",
       "1  [O, O, O, B-ORG, B-LOC, I-LOC, O, B-PER, O, O,...  [40.71427, -74.00597]   \n",
       "2  [B-LOC, B-LOC, O, B-PER, O, O, O, O, O, O, O, ...  [44.97997, -93.26384]   \n",
       "3  [B-LOC, O, B-PER, O, O, I-MISC, O, O, O, O, B-...   [41.89193, 12.51133]   \n",
       "4  [O, O, B-ORG, B-LOC, I-ORG, O, O, O, O, O, O, ...                     []   \n",
       "\n",
       "   crime  ...  antitrust                                          ner_words  \\\n",
       "0      0  ...          0  [upon, our, country, We, are, at, peace, with,...   \n",
       "1      0  ...          0  [Special, to, the, Star, NEW, York, Oct, 1, TH...   \n",
       "2      0  ...          0  [MNSEAPoLIs, MIMI, May, 2, At, z, o, clock, th...   \n",
       "3      0  ...          0  [RoNE, March, 2, s, A, Consistory, was, held, ...   \n",
       "4      0  ...          0  [From, the, Carrolton, Mo, Democrat, The, last...   \n",
       "\n",
       "                               byline    wire_city  year govt_regulation  \\\n",
       "0                                                   1878               0   \n",
       "1                                         New York  1878               0   \n",
       "2                                      Minneapolis  1878               0   \n",
       "3                                             Rome  1878               0   \n",
       "4  [From the Carrolton (Mo.) Democrat               1878               0   \n",
       "\n",
       "                                             article  \\\n",
       "0  upon our country.\\n\\n\\nWe are at peace with al...   \n",
       "1  Special to the Star.\\n\\n\\nNEW York, Oct. 1.-TH...   \n",
       "2  MNSEAPoLIs, MIMI, May 2.-At z\\no'clock this ev...   \n",
       "3  RoNE, March 2s.--A Consistory was held\\nat the...   \n",
       "4  From the Carrolton (Mo.) Democrat\\n\\n\\nThe las...   \n",
       "\n",
       "                                               dates cluster_size  \\\n",
       "0  [Dec-19-1878, Dec-04-1878, Dec-02-1878, Dec-05...           22   \n",
       "1  [Nov-15-1878, Oct-25-1878, Oct-31-1878, Oct-24...            8   \n",
       "2  [May-03-1878, May-04-1878, May-09-1878, May-15...           12   \n",
       "3            [Mar-29-1878, Mar-28-1878, Apr-05-1878]            8   \n",
       "4  [Jul-30-1878, Sep-13-1878, Aug-01-1878, Nov-07...           11   \n",
       "\n",
       "    wire_country  \n",
       "0                 \n",
       "1  United States  \n",
       "2  United States  \n",
       "3          Italy  \n",
       "4                 \n",
       "\n",
       "[5 rows x 22 columns]"
      ]
     },
     "execution_count": 12,
     "metadata": {},
     "output_type": "execute_result"
    }
   ],
   "source": [
    "result = pd.read_parquet(\"newswire.parquet\")\n",
    "result.head(5)"
   ]
  },
  {
   "cell_type": "code",
   "execution_count": 13,
   "id": "3776a327",
   "metadata": {},
   "outputs": [
    {
     "data": {
      "text/plain": [
       "115198"
      ]
     },
     "execution_count": 13,
     "metadata": {},
     "output_type": "execute_result"
    }
   ],
   "source": [
    "len(result)"
   ]
  },
  {
   "cell_type": "markdown",
   "id": "dd2b8b26",
   "metadata": {},
   "source": [
    "Удалим лишние столбцы"
   ]
  },
  {
   "cell_type": "code",
   "execution_count": 14,
   "id": "ac978d48",
   "metadata": {},
   "outputs": [
    {
     "data": {
      "text/plain": [
       "0    upon our country.\\n\\n\\nWe are at peace with al...\n",
       "1    Special to the Star.\\n\\n\\nNEW York, Oct. 1.-TH...\n",
       "2    MNSEAPoLIs, MIMI, May 2.-At z\\no'clock this ev...\n",
       "3    RoNE, March 2s.--A Consistory was held\\nat the...\n",
       "4    From the Carrolton (Mo.) Democrat\\n\\n\\nThe las...\n",
       "Name: article, dtype: object"
      ]
     },
     "execution_count": 14,
     "metadata": {},
     "output_type": "execute_result"
    }
   ],
   "source": [
    "result = result[\"article\"]\n",
    "result.head()"
   ]
  },
  {
   "cell_type": "code",
   "execution_count": 16,
   "id": "64ed8a8f",
   "metadata": {},
   "outputs": [
    {
     "data": {
      "text/html": [
       "<div>\n",
       "<style scoped>\n",
       "    .dataframe tbody tr th:only-of-type {\n",
       "        vertical-align: middle;\n",
       "    }\n",
       "\n",
       "    .dataframe tbody tr th {\n",
       "        vertical-align: top;\n",
       "    }\n",
       "\n",
       "    .dataframe thead th {\n",
       "        text-align: right;\n",
       "    }\n",
       "</style>\n",
       "<table border=\"1\" class=\"dataframe\">\n",
       "  <thead>\n",
       "    <tr style=\"text-align: right;\">\n",
       "      <th></th>\n",
       "      <th>article</th>\n",
       "    </tr>\n",
       "  </thead>\n",
       "  <tbody>\n",
       "    <tr>\n",
       "      <th>0</th>\n",
       "      <td>upon our country.\\n\\n\\nWe are at peace with al...</td>\n",
       "    </tr>\n",
       "    <tr>\n",
       "      <th>1</th>\n",
       "      <td>Special to the Star.\\n\\n\\nNEW York, Oct. 1.-TH...</td>\n",
       "    </tr>\n",
       "    <tr>\n",
       "      <th>2</th>\n",
       "      <td>MNSEAPoLIs, MIMI, May 2.-At z\\no'clock this ev...</td>\n",
       "    </tr>\n",
       "    <tr>\n",
       "      <th>3</th>\n",
       "      <td>RoNE, March 2s.--A Consistory was held\\nat the...</td>\n",
       "    </tr>\n",
       "    <tr>\n",
       "      <th>4</th>\n",
       "      <td>From the Carrolton (Mo.) Democrat\\n\\n\\nThe las...</td>\n",
       "    </tr>\n",
       "    <tr>\n",
       "      <th>...</th>\n",
       "      <td>...</td>\n",
       "    </tr>\n",
       "    <tr>\n",
       "      <th>115193</th>\n",
       "      <td>washington, Dec 2s-President\\nCleveland this a...</td>\n",
       "    </tr>\n",
       "    <tr>\n",
       "      <th>115194</th>\n",
       "      <td>ST. JOSEPH, Mo-, Dec. 21.-John F.\\nKunz, the s...</td>\n",
       "    </tr>\n",
       "    <tr>\n",
       "      <th>115195</th>\n",
       "      <td>Sioux City Iowa. Dec. 2s-Donald\\nMclean. prote...</td>\n",
       "    </tr>\n",
       "    <tr>\n",
       "      <th>115196</th>\n",
       "      <td>Leadville, Col, Dec. 26.-About 2 o'clock\\nthis...</td>\n",
       "    </tr>\n",
       "    <tr>\n",
       "      <th>115197</th>\n",
       "      <td>LONDON, Dec. 26.-The Times Paris\\ncorresponden...</td>\n",
       "    </tr>\n",
       "  </tbody>\n",
       "</table>\n",
       "<p>115198 rows × 1 columns</p>\n",
       "</div>"
      ],
      "text/plain": [
       "                                                  article\n",
       "0       upon our country.\\n\\n\\nWe are at peace with al...\n",
       "1       Special to the Star.\\n\\n\\nNEW York, Oct. 1.-TH...\n",
       "2       MNSEAPoLIs, MIMI, May 2.-At z\\no'clock this ev...\n",
       "3       RoNE, March 2s.--A Consistory was held\\nat the...\n",
       "4       From the Carrolton (Mo.) Democrat\\n\\n\\nThe las...\n",
       "...                                                   ...\n",
       "115193  washington, Dec 2s-President\\nCleveland this a...\n",
       "115194  ST. JOSEPH, Mo-, Dec. 21.-John F.\\nKunz, the s...\n",
       "115195  Sioux City Iowa. Dec. 2s-Donald\\nMclean. prote...\n",
       "115196  Leadville, Col, Dec. 26.-About 2 o'clock\\nthis...\n",
       "115197  LONDON, Dec. 26.-The Times Paris\\ncorresponden...\n",
       "\n",
       "[115198 rows x 1 columns]"
      ]
     },
     "execution_count": 16,
     "metadata": {},
     "output_type": "execute_result"
    }
   ],
   "source": [
    "result = pd.DataFrame(result)\n",
    "result"
   ]
  },
  {
   "cell_type": "code",
   "execution_count": 17,
   "id": "3111483b",
   "metadata": {},
   "outputs": [],
   "source": [
    "#result.to_csv(\"Newswire/newswire-0.csv\")"
   ]
  },
  {
   "cell_type": "code",
   "execution_count": 20,
   "id": "e8130890",
   "metadata": {},
   "outputs": [
    {
     "name": "stdout",
     "output_type": "stream",
     "text": [
      "upon our country.\n",
      "\n",
      "\n",
      "We are at peace with all other nations\n",
      "Our public credit has greatly improved, ant\n",
      "is, perhaps, now stronger than ever before\n",
      "Abundant haryests have rewarded the labor.\n",
      "of those who till the soil, our manufacturing\n",
      "industries are reyiying, and it is believed\n",
      "that general prosperity, which has been SC\n",
      "anxiously looked for, is at'least within oul\n",
      "reach.\n",
      "\n",
      "\n",
      "THE YELLOW FEVER.\n",
      "\n",
      "\n",
      "The enjoyment of health by our people\n",
      "generally has, however, been interrupted,\n",
      "during the past season, by the prevalence OF\n",
      "a fatal pestilence, the yellow fever, in some\n",
      "portions of the Southern States, creating an\n",
      "emergency which called for prompt and ex-\n",
      "traordinary measures Of relief. The disease\n",
      "appeared as an epidemic at New Orleans and\n",
      "at other places on the lower Mississippi, soon\n",
      "after midsummer. 1t was rapidly spread\n",
      "ny fugitiyes from the infected cities and\n",
      "towns, and did not disappear till early in No\n",
      "yember. The States of Louisiana, Mississ-\n",
      "ippi and Tennessee, have suffered severely.\n",
      "About one hundred thousand cases are be-\n",
      "lieyed to have occurred, of which about\n",
      "twenty thousand. according to intelligent\n",
      "estimates, proved fatal. 1t is impossible to\n",
      "estimate with any approach to accuracy the\n",
      "loss to the country occasioned by this epidem-\n",
      "ic 1t is to be reckoned by the hundred mill\n",
      "ions of dollars. The suffering and destitu-\n",
      "ton that ensued, excited the deepest sympa-\n",
      "thy in all parts of the Union. Physicians\n",
      "and nurses hastened from every quarter to\n",
      "the assistance of the afflicted communities.\n",
      "Voluntary contributions of money and sup\n",
      "plies, in every needed form. were speedily\n",
      "and generously furnished. The government\n",
      "was able to respond in some measure to the\n",
      "call for help, by providing tents, medicines\n",
      "and food for the sick and destitute, the re-\n",
      "quisite directions for the purpose being CIV\n",
      "en, in the confident expectation that this ac-\n",
      "ton of the Executive would receive the sane\n",
      "tion of Congress. About eighteen hundred\n",
      "tents, and rations of the value of about\n",
      "twenty-five thousand dollars, were sent to\n",
      "cities and towns which applied for them. full\n",
      "details of which will be furnished to Con-\n",
      "gress by the proper department.\n",
      "\n",
      "\n",
      "The fearful spread of this pestilence has\n",
      "awakened very general public sentiment\n",
      "in favor of national sanitary administration,\n",
      "which shall not only control quarantine, but\n",
      "have the sanitary supervision of internal\n",
      "commerce in times Of epidemics. and hold an\n",
      "advisory relation to the State and municipal\n",
      "health authorities. with power to deal with\n",
      "whatever endangers the public health,\n",
      "and which the municipal and State author\n",
      "ities are upable to regulate. The ma\n",
      "tional quarantine act approved April \",\n",
      "1873, which was passed too late in the last\n",
      "session of CongIess to provide the means Tor\n",
      "carrying it into practical operation during\n",
      "the Iast season. Is step IN the direction\n",
      "here Indicated In view Of the necessity for\n",
      "the most effective measures, BY quarantine\n",
      "and otherwise, for the protection OF our sea-\n",
      "ports, and the country generally, from this\n",
      "and other epidemics, 1t l. recommended that\n",
      "Congress give TO the whole subject early and\n",
      "careful consideration.\n",
      "\n",
      "\n",
      "TIRE SOUTHERN QUESTION.\n",
      "\n",
      "\n",
      "The permanent paci6cation of the country\n",
      "by the complete protection OF all citizens IN\n",
      "every civil and political right continues to\n",
      "heof paramount interest with the great body\n",
      "of our people. Eyery step in this direction\n",
      "is welcomed with public approval, and every\n",
      "interruption Of steady and uniform progress\n",
      "to the desired consummation awakers gem\n",
      "eral uneaslness and widespread cOudemna-\n",
      "ton. The recent Congressional elections\n",
      "have furnished direct and trustworthy\n",
      "test Of the advance thus far made in the\n",
      "practical establishment of the right OF SUI\n",
      "lrage. secured by the Constitution TO the lib\n",
      "Grated race in the Southern States. all dis\n",
      "turbing influences, real or imaginary, had\n",
      "been removed from all OF the States.\n",
      "\n",
      "\n",
      "The three constitutional amendments,\n",
      "which conferred freedom and equality Of civil\n",
      "and political rights upon the colOred people oi\n",
      "the South, were adopted bv the concurrent\n",
      "action of the great body of good citizens\n",
      "who maintained the authority Of the Nation\n",
      "al Government and the integrity and perpet-\n",
      "uity Of the Union at such cost OF treasure\n",
      "and life, as a wise and necessary embodiment\n",
      "in the organic law of the Just results OF the\n",
      "war. The people of the former slave-hold-\n",
      "ing States accepted these results, and gave\n",
      "in every practicable form assurances that the\n",
      "thirteenth, fourteenth and fifteenth amend\n",
      "ments. aud laws passed in pursuance thereof,\n",
      "should, in good faith, be enforced, rigidly\n",
      "and impartially, in letter and spirit, to the\n",
      "end that the humblest citizen. without dis\n",
      "tincton of race or color, should, under them,\n",
      "receive full and equal protection in person\n",
      "and property an in political rights ana\n",
      "privileges. By these constitutional amend\n",
      "mients. the Southern section Of the Union ob-\n",
      "tained large increase of political power IN\n",
      "Congress and in the Electoral College, and\n",
      "the country justly expected that elections\n",
      "would proceed, as TO the enfranehised race,\n",
      "upon the same circumstances of legal and\n",
      "constitutional freedom and protection which\n",
      "obtained in all the other States Of the Union.\n",
      "The friends of law and order looked forward\n",
      "l., 81 tboCo a1antinpa OfiprInp\n",
      "to the general judgment of the country an\n",
      "important opportunity to measure the degree\n",
      "IN which the right OF suffrage could be ex-\n",
      "ercised by the colored people, and would be\n",
      "respected by their fellow citizens; but\n",
      "more general enjoyment OF freedom oi sui\n",
      "frage by the colored people, and more Just\n",
      "and generous protection of that freedom by\n",
      "the communities OF which they form part,\n",
      "were generally anticipated than the record\n",
      "of the elections discloses. In some Of those\n",
      "States in which the colOred people have been\n",
      "unable to make their opinions felt in the\n",
      "elections, the result is mainly due to inhu'\n",
      "ences not easily measured or remedied By le'\n",
      "gal protection but in the States OF Louisiana\n",
      "and South Carolina at large. and in some\n",
      "particular Congressional districts outside oil\n",
      "those States, the records of the elections\n",
      "seem to compel the conclusion that the rights\n",
      "of the cOlOred voters have been oyer-ridden\n",
      "and their participation in the elections moi\n",
      "permitted to be either general or free.\n",
      "\n",
      "\n",
      "Ii will be for the Congress for which theSG\n",
      "elections were held, to make such examina'\n",
      "tions into their conduct as may be appro\n",
      "pirate to determine the validity Of the\n",
      "claims of members to their seats. In the\n",
      "meanwhile it becomes the duty Of the Exc\n",
      "cutiye and Judicial Departments of the\n",
      "Governments, each in its province, to inquire\n",
      "into and punish violations OF the laws OF The\n",
      "United States which have occurred. car\n",
      "but repeat what ! said in this connection il\n",
      "ny last message, that whatever authority\n",
      "tests with me to this end | shall not hesitate\n",
      "to put forth, and am unwilling to forego 4\n",
      "renewed appeal to the legislatures, the courts\n",
      "the executive authorities, and the people o\n",
      "the States where these wrongs have beer\n",
      "perpe;rated, to give their assistance toward\n",
      "bringing to justice the offenders and prevent\n",
      "ing a repetition of the crimes. No mean\n",
      "within my power will be spared to obtain 1\n",
      "iul and fair investigation of the allegeC\n",
      "crimes. and to secure the conviction and jus\n",
      "punishment Of the guilty\n",
      "\n",
      "\n",
      "IL Is to be observed that Il e principal ap\n",
      "propriation made for the Department Q\n",
      "Justice at the last session contained the fol\n",
      "lowing clause \"And for deiraying the ey\n",
      "penses which may be incurred in the enforce\n",
      "ment Of the act approved February twenty\n",
      "eighth, eighteen hundred and sevcnty-one\n",
      "entitled An act to amend an act approved\n",
      "May thirtieth, eighteen hundred and seven\n",
      "ty, entitled An act to enforce the rights o\n",
      "citizens of the United States to vote in th'\n",
      "several States Of the Union, and for othel\n",
      "purposes, or any acts amendatory thereof ol\n",
      "supplementary thereto\"\n",
      "\n",
      "\n",
      "II is the opinion Of the Attorney Genera\n",
      "that the expenses Of these proceedings vii\n",
      "largely exceed the amount which was thu\n",
      "provided, and rely confidently upon Con\n",
      "grcss to make adequate appropriations tt\n",
      "enable the Executive Department to eniorc,\n",
      "the laws.\n",
      "\n",
      "\n",
      "| respectfully urge upon your attention\n",
      "that the t'ongrpsSional elpctiopc IN avar,\n"
     ]
    }
   ],
   "source": [
    "print(result.loc[0]['article'])"
   ]
  },
  {
   "cell_type": "code",
   "execution_count": null,
   "id": "6978dfb0",
   "metadata": {},
   "outputs": [],
   "source": []
  }
 ],
 "metadata": {
  "kernelspec": {
   "display_name": "Python 3 (ipykernel)",
   "language": "python",
   "name": "python3"
  },
  "language_info": {
   "codemirror_mode": {
    "name": "ipython",
    "version": 3
   },
   "file_extension": ".py",
   "mimetype": "text/x-python",
   "name": "python",
   "nbconvert_exporter": "python",
   "pygments_lexer": "ipython3",
   "version": "3.11.5"
  }
 },
 "nbformat": 4,
 "nbformat_minor": 5
}
