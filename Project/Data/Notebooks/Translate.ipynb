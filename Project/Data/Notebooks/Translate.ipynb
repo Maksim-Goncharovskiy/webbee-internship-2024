{
 "cells": [
  {
   "cell_type": "code",
   "execution_count": 1,
   "id": "be42cdf7-d27d-40f3-bdec-21f2b57275c3",
   "metadata": {},
   "outputs": [],
   "source": [
    "import numpy as np\n",
    "import pandas as pd"
   ]
  },
  {
   "cell_type": "code",
   "execution_count": 2,
   "id": "d0d497c3-b6d1-47ac-a883-318617bd883d",
   "metadata": {},
   "outputs": [],
   "source": [
    "from googletrans import Translator, LANGUAGES"
   ]
  },
  {
   "cell_type": "markdown",
   "id": "80a51821-a169-43fc-92d9-569b1f631597",
   "metadata": {},
   "source": [
    "Если при использовании модуля googletrans будет возникать ошибка `attribute error`, то может помочь установка другой определённой версии библиотеки:\n",
    "```\n",
    "pip install googletrans==3.1.0a0 --no-cache-dir\n",
    "```"
   ]
  },
  {
   "cell_type": "code",
   "execution_count": 3,
   "id": "1727a273-9571-4d03-a7f1-d5b53df57f5e",
   "metadata": {},
   "outputs": [],
   "source": [
    "import warnings\n",
    "warnings.filterwarnings(\"ignore\")"
   ]
  },
  {
   "cell_type": "code",
   "execution_count": 4,
   "id": "52df2c5d-58a8-426d-b9b0-c25a7f4eceea",
   "metadata": {},
   "outputs": [],
   "source": [
    "# Чтение val.pkl, который я скинул\n",
    "data = pd.read_pickle(\"val.pkl\")\n",
    "# Или так:\n",
    "# dataset = load_dataset(\"eReverter/cnn_dailymail_extractive\", split='validation')\n",
    "# data = dataset.to_pandas().drop('tgt', axis=1)"
   ]
  },
  {
   "cell_type": "code",
   "execution_count": 5,
   "id": "77d5aa8a-9704-47b3-a2e9-9707f043a2d1",
   "metadata": {},
   "outputs": [
    {
     "data": {
      "text/html": [
       "<div>\n",
       "<style scoped>\n",
       "    .dataframe tbody tr th:only-of-type {\n",
       "        vertical-align: middle;\n",
       "    }\n",
       "\n",
       "    .dataframe tbody tr th {\n",
       "        vertical-align: top;\n",
       "    }\n",
       "\n",
       "    .dataframe thead th {\n",
       "        text-align: right;\n",
       "    }\n",
       "</style>\n",
       "<table border=\"1\" class=\"dataframe\">\n",
       "  <thead>\n",
       "    <tr style=\"text-align: right;\">\n",
       "      <th></th>\n",
       "      <th>src</th>\n",
       "      <th>labels</th>\n",
       "    </tr>\n",
       "  </thead>\n",
       "  <tbody>\n",
       "    <tr>\n",
       "      <th>0</th>\n",
       "      <td>[(CNN)Share, and your gift will be multiplied....</td>\n",
       "      <td>[0, 1, 1, 0, 0, 0, 0, 0, 0, 0, 0, 0, 0, 0, 0, ...</td>\n",
       "    </tr>\n",
       "    <tr>\n",
       "      <th>1</th>\n",
       "      <td>[(CNN)On the 6th of April 1996, San Jose Clash...</td>\n",
       "      <td>[0, 0, 0, 0, 0, 0, 0, 1, 0, 0, 0, 0, 0, 0, 0, ...</td>\n",
       "    </tr>\n",
       "    <tr>\n",
       "      <th>2</th>\n",
       "      <td>[(CNN)French striker Bafetimbi Gomis, who has ...</td>\n",
       "      <td>[0, 1, 1, 0, 0, 0, 0, 0, 0, 0, 0, 0, 0, 0, 0, ...</td>\n",
       "    </tr>\n",
       "  </tbody>\n",
       "</table>\n",
       "</div>"
      ],
      "text/plain": [
       "                                                 src  \\\n",
       "0  [(CNN)Share, and your gift will be multiplied....   \n",
       "1  [(CNN)On the 6th of April 1996, San Jose Clash...   \n",
       "2  [(CNN)French striker Bafetimbi Gomis, who has ...   \n",
       "\n",
       "                                              labels  \n",
       "0  [0, 1, 1, 0, 0, 0, 0, 0, 0, 0, 0, 0, 0, 0, 0, ...  \n",
       "1  [0, 0, 0, 0, 0, 0, 0, 1, 0, 0, 0, 0, 0, 0, 0, ...  \n",
       "2  [0, 1, 1, 0, 0, 0, 0, 0, 0, 0, 0, 0, 0, 0, 0, ...  "
      ]
     },
     "execution_count": 5,
     "metadata": {},
     "output_type": "execute_result"
    }
   ],
   "source": [
    "# Выбираем свою часть датасета, которую собираемся переводить.\n",
    "# Я беру первые 5К [0:4999]\n",
    "# Ты, получается, следующие 5К \n",
    "start = 0\n",
    "end = 2\n",
    "data = data.loc[start:end]\n",
    "data"
   ]
  },
  {
   "cell_type": "code",
   "execution_count": 6,
   "id": "3da729bc-3001-4140-8422-974bc8b9708b",
   "metadata": {},
   "outputs": [
    {
     "data": {
      "text/html": [
       "<div>\n",
       "<style scoped>\n",
       "    .dataframe tbody tr th:only-of-type {\n",
       "        vertical-align: middle;\n",
       "    }\n",
       "\n",
       "    .dataframe tbody tr th {\n",
       "        vertical-align: top;\n",
       "    }\n",
       "\n",
       "    .dataframe thead th {\n",
       "        text-align: right;\n",
       "    }\n",
       "</style>\n",
       "<table border=\"1\" class=\"dataframe\">\n",
       "  <thead>\n",
       "    <tr style=\"text-align: right;\">\n",
       "      <th></th>\n",
       "      <th>sentences</th>\n",
       "      <th>labels</th>\n",
       "    </tr>\n",
       "  </thead>\n",
       "  <tbody>\n",
       "    <tr>\n",
       "      <th>0</th>\n",
       "      <td>[(CNN) Поделитесь, и ваш дар будет умножен., Э...</td>\n",
       "      <td>[0, 1, 1, 0, 0, 0, 0, 0, 0, 0, 0, 0, 0, 0, 0, ...</td>\n",
       "    </tr>\n",
       "    <tr>\n",
       "      <th>1</th>\n",
       "      <td>[(CNN) 6 апреля 1996 года «Сан-Хосе Клэш» и «Д...</td>\n",
       "      <td>[0, 0, 0, 0, 0, 0, 0, 1, 0, 0, 0, 0, 0, 0, 0, ...</td>\n",
       "    </tr>\n",
       "    <tr>\n",
       "      <th>2</th>\n",
       "      <td>[(CNN) Французский нападающий Бафетимби Гомис,...</td>\n",
       "      <td>[0, 1, 1, 0, 0, 0, 0, 0, 0, 0, 0, 0, 0, 0, 0, ...</td>\n",
       "    </tr>\n",
       "  </tbody>\n",
       "</table>\n",
       "</div>"
      ],
      "text/plain": [
       "                                           sentences  \\\n",
       "0  [(CNN) Поделитесь, и ваш дар будет умножен., Э...   \n",
       "1  [(CNN) 6 апреля 1996 года «Сан-Хосе Клэш» и «Д...   \n",
       "2  [(CNN) Французский нападающий Бафетимби Гомис,...   \n",
       "\n",
       "                                              labels  \n",
       "0  [0, 1, 1, 0, 0, 0, 0, 0, 0, 0, 0, 0, 0, 0, 0, ...  \n",
       "1  [0, 0, 0, 0, 0, 0, 0, 1, 0, 0, 0, 0, 0, 0, 0, ...  \n",
       "2  [0, 1, 1, 0, 0, 0, 0, 0, 0, 0, 0, 0, 0, 0, 0, ...  "
      ]
     },
     "execution_count": 6,
     "metadata": {},
     "output_type": "execute_result"
    }
   ],
   "source": [
    "translator = Translator()\n",
    "\n",
    "data['src'] = data['src'].apply(lambda text: text.tolist())\n",
    "data['ru_src'] = data['src'].apply(lambda sentences: [translator.translate(sentence, src='en', dest='ru').text for sentence in sentences])\n",
    "\n",
    "df = pd.DataFrame(data[['ru_src', 'labels']].values, columns=['sentences', 'labels'])\n",
    "df"
   ]
  },
  {
   "cell_type": "code",
   "execution_count": 7,
   "id": "3922c398-5308-4a62-a169-09ecd787f1f1",
   "metadata": {},
   "outputs": [],
   "source": [
    "df.to_pickle('translated_val.pkl')"
   ]
  }
 ],
 "metadata": {
  "kernelspec": {
   "display_name": "Python 3 (ipykernel)",
   "language": "python",
   "name": "python3"
  },
  "language_info": {
   "codemirror_mode": {
    "name": "ipython",
    "version": 3
   },
   "file_extension": ".py",
   "mimetype": "text/x-python",
   "name": "python",
   "nbconvert_exporter": "python",
   "pygments_lexer": "ipython3",
   "version": "3.12.3"
  }
 },
 "nbformat": 4,
 "nbformat_minor": 5
}
