{
 "cells": [
  {
   "cell_type": "code",
   "execution_count": 1,
   "id": "ddf0fdf5-a57d-4a63-84a8-c51554c8485e",
   "metadata": {},
   "outputs": [],
   "source": [
    "import pandas as pd"
   ]
  },
  {
   "cell_type": "code",
   "execution_count": 2,
   "id": "c9249b3a-2585-43ed-86ea-31a63f35bfef",
   "metadata": {},
   "outputs": [],
   "source": [
    "ru_train_6k = pd.read_pickle('../ru_train_6k.pkl')\n",
    "ru_train_5k = pd.read_pickle('../ru_train_5k.pkl')"
   ]
  },
  {
   "cell_type": "code",
   "execution_count": 4,
   "id": "f09c95b7-0381-4976-8dac-f7a549af025f",
   "metadata": {},
   "outputs": [
    {
     "data": {
      "text/html": [
       "<div>\n",
       "<style scoped>\n",
       "    .dataframe tbody tr th:only-of-type {\n",
       "        vertical-align: middle;\n",
       "    }\n",
       "\n",
       "    .dataframe tbody tr th {\n",
       "        vertical-align: top;\n",
       "    }\n",
       "\n",
       "    .dataframe thead th {\n",
       "        text-align: right;\n",
       "    }\n",
       "</style>\n",
       "<table border=\"1\" class=\"dataframe\">\n",
       "  <thead>\n",
       "    <tr style=\"text-align: right;\">\n",
       "      <th></th>\n",
       "      <th>sentences</th>\n",
       "      <th>labels</th>\n",
       "    </tr>\n",
       "  </thead>\n",
       "  <tbody>\n",
       "    <tr>\n",
       "      <th>0</th>\n",
       "      <td>[Современных людей обвиняют в том, что они уби...</td>\n",
       "      <td>[0, 1, 0, 0, 0, 0, 0, 0, 0, 0, 0, 0, 0, 0, 0, ...</td>\n",
       "    </tr>\n",
       "    <tr>\n",
       "      <th>1</th>\n",
       "      <td>[Когда Клэр Хайнс узнала, что беременна, она о...</td>\n",
       "      <td>[0, 0, 0, 0, 1, 1, 1, 0, 0, 0, 0, 0, 0, 0, 0, ...</td>\n",
       "    </tr>\n",
       "    <tr>\n",
       "      <th>2</th>\n",
       "      <td>[Знаменитый шеф-повар Пит Эванс потерял еще од...</td>\n",
       "      <td>[0, 0, 0, 0, 1, 0, 0, 0, 0, 0, 0, 0, 1, 0, 1, ...</td>\n",
       "    </tr>\n",
       "    <tr>\n",
       "      <th>3</th>\n",
       "      <td>[Ученые полагают, что жизнь на Земле начала ра...</td>\n",
       "      <td>[0, 0, 0, 0, 0, 0, 0, 0, 0, 0, 0, 0, 0, 0, 0, ...</td>\n",
       "    </tr>\n",
       "    <tr>\n",
       "      <th>4</th>\n",
       "      <td>[Паундленд был вынужден убрать со своих полок ...</td>\n",
       "      <td>[0, 1, 0, 0, 0, 0, 0, 0, 0, 0]</td>\n",
       "    </tr>\n",
       "    <tr>\n",
       "      <th>...</th>\n",
       "      <td>...</td>\n",
       "      <td>...</td>\n",
       "    </tr>\n",
       "    <tr>\n",
       "      <th>10995</th>\n",
       "      <td>[Тренер сборной Англии Рой Ходжсон опасается, ...</td>\n",
       "      <td>[1, 1, 0, 0, 0, 0, 0, 0, 0, 0, 0, 0, 0, 0, 1, ...</td>\n",
       "    </tr>\n",
       "    <tr>\n",
       "      <th>10996</th>\n",
       "      <td>[Лучшие британцы встретятся лицом к лицу в суб...</td>\n",
       "      <td>[1, 1, 0, 0, 1, 0, 0, 0, 0, 0, 0, 0, 0, 0, 0, ...</td>\n",
       "    </tr>\n",
       "    <tr>\n",
       "      <th>10997</th>\n",
       "      <td>[Шведская футбольная команда рассказала, как о...</td>\n",
       "      <td>[0, 1, 0, 0, 0, 0, 0, 0, 0, 0, 0, 0, 0, 0, 0, ...</td>\n",
       "    </tr>\n",
       "    <tr>\n",
       "      <th>10998</th>\n",
       "      <td>[Лес Фердинанд признал, что перед КПР стоит не...</td>\n",
       "      <td>[0, 1, 0, 1, 0, 0, 0, 0, 0, 1, 0]</td>\n",
       "    </tr>\n",
       "    <tr>\n",
       "      <th>10999</th>\n",
       "      <td>[Поразмыслив, было бы неправильно охарактеризо...</td>\n",
       "      <td>[0, 0, 0, 0, 0, 0, 0, 0, 0, 0, 0, 0, 0, 0, 0, ...</td>\n",
       "    </tr>\n",
       "  </tbody>\n",
       "</table>\n",
       "<p>11000 rows × 2 columns</p>\n",
       "</div>"
      ],
      "text/plain": [
       "                                               sentences  \\\n",
       "0      [Современных людей обвиняют в том, что они уби...   \n",
       "1      [Когда Клэр Хайнс узнала, что беременна, она о...   \n",
       "2      [Знаменитый шеф-повар Пит Эванс потерял еще од...   \n",
       "3      [Ученые полагают, что жизнь на Земле начала ра...   \n",
       "4      [Паундленд был вынужден убрать со своих полок ...   \n",
       "...                                                  ...   \n",
       "10995  [Тренер сборной Англии Рой Ходжсон опасается, ...   \n",
       "10996  [Лучшие британцы встретятся лицом к лицу в суб...   \n",
       "10997  [Шведская футбольная команда рассказала, как о...   \n",
       "10998  [Лес Фердинанд признал, что перед КПР стоит не...   \n",
       "10999  [Поразмыслив, было бы неправильно охарактеризо...   \n",
       "\n",
       "                                                  labels  \n",
       "0      [0, 1, 0, 0, 0, 0, 0, 0, 0, 0, 0, 0, 0, 0, 0, ...  \n",
       "1      [0, 0, 0, 0, 1, 1, 1, 0, 0, 0, 0, 0, 0, 0, 0, ...  \n",
       "2      [0, 0, 0, 0, 1, 0, 0, 0, 0, 0, 0, 0, 1, 0, 1, ...  \n",
       "3      [0, 0, 0, 0, 0, 0, 0, 0, 0, 0, 0, 0, 0, 0, 0, ...  \n",
       "4                         [0, 1, 0, 0, 0, 0, 0, 0, 0, 0]  \n",
       "...                                                  ...  \n",
       "10995  [1, 1, 0, 0, 0, 0, 0, 0, 0, 0, 0, 0, 0, 0, 1, ...  \n",
       "10996  [1, 1, 0, 0, 1, 0, 0, 0, 0, 0, 0, 0, 0, 0, 0, ...  \n",
       "10997  [0, 1, 0, 0, 0, 0, 0, 0, 0, 0, 0, 0, 0, 0, 0, ...  \n",
       "10998                  [0, 1, 0, 1, 0, 0, 0, 0, 0, 1, 0]  \n",
       "10999  [0, 0, 0, 0, 0, 0, 0, 0, 0, 0, 0, 0, 0, 0, 0, ...  \n",
       "\n",
       "[11000 rows x 2 columns]"
      ]
     },
     "execution_count": 4,
     "metadata": {},
     "output_type": "execute_result"
    }
   ],
   "source": [
    "ru_train = pd.DataFrame(pd.concat([ru_train_6k, ru_train_5k], axis=0).values, columns=[\"sentences\", \"labels\"])\n",
    "ru_train"
   ]
  },
  {
   "cell_type": "code",
   "execution_count": 6,
   "id": "d66fa5fc-e309-4b41-be61-8b86996e6349",
   "metadata": {},
   "outputs": [],
   "source": [
    "ru_train.to_pickle(\"../ru_train.pkl\")"
   ]
  },
  {
   "cell_type": "code",
   "execution_count": null,
   "id": "6b6aa9e2-2e97-4e62-b36b-6a80d4a18250",
   "metadata": {},
   "outputs": [],
   "source": []
  }
 ],
 "metadata": {
  "kernelspec": {
   "display_name": "Python 3 (ipykernel)",
   "language": "python",
   "name": "python3"
  },
  "language_info": {
   "codemirror_mode": {
    "name": "ipython",
    "version": 3
   },
   "file_extension": ".py",
   "mimetype": "text/x-python",
   "name": "python",
   "nbconvert_exporter": "python",
   "pygments_lexer": "ipython3",
   "version": "3.12.3"
  }
 },
 "nbformat": 4,
 "nbformat_minor": 5
}
