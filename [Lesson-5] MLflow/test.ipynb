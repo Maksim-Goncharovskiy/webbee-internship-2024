{
 "cells": [
  {
   "cell_type": "markdown",
   "metadata": {},
   "source": [
    "## Обзор MLflow: Теория и основные аспекты"
   ]
  },
  {
   "cell_type": "markdown",
   "metadata": {},
   "source": [
    "### Введение\n",
    "MLflow — это платформа с открытым исходным кодом, предназначенная для управления жизненным циклом машинного обучения. Она помогает разработчикам и исследователям автоматизировать и отслеживать все стадии разработки моделей машинного обучения: от экспериментов до деплоя. В этой статье мы рассмотрим основные компоненты MLflow и покажем мини-примеры использования.\n"
   ]
  },
  {
   "cell_type": "markdown",
   "metadata": {},
   "source": [
    "### Основные компоненты MLflow\n",
    "\n",
    "MLflow состоит из четырех основных компонентов:\n",
    "\n",
    "1. **MLflow Tracking**: позволяет вести журнал экспериментов, параметров, метрик и артефактов.\n",
    "2. **MLflow Projects**: упрощает воспроизводимость проектов с использованием стандартных форматов.\n",
    "3. **MLflow Models**: стандартизирует формат хранения моделей, что облегчает их деплой.\n",
    "4. **MLflow Registry**: управляет жизненным циклом моделей, включая версионирование и деплой.\n"
   ]
  },
  {
   "cell_type": "markdown",
   "metadata": {},
   "source": [
    "#### 1. MLflow Tracking\n",
    "Это API для фиксации параметров, метрик и прочих артефактов при запуске экспериментов по машинному обучению, а также пользовательский интерфейс для визуализации полученных результатов. MLflow Tracking позволяет сохранять результаты экспериментов и запрашивать их с помощью API Python, REST, R API и Java API.\n",
    "\n",
    "Основная концепция MLflow Tracking run - единичная итерация эксперимента. Также в MLflow присутствует понятие Experiment, который позволяет логически сгруппировать несколько запусков (run). \n",
    "- Параметры: значения входных данных.\n",
    "- Метрики: результаты и показатели качества модели.\n",
    "- Артефакты: файлы, создаваемые в ходе экспериментов (например, обученные модели).\n",
    "- Журналы: текстовые файлы с логами выполнения.\n"
   ]
  },
  {
   "cell_type": "code",
   "execution_count": null,
   "metadata": {},
   "outputs": [],
   "source": [
    "import mlflow\n",
    "\n",
    "# Начало нового эксперимента\n",
    "with mlflow.start_run():\n",
    "\t# Логирование параметров\n",
    "\tmlflow.log_param(\"alpha\", 0.5)\n",
    "\tmlflow.log_param(\"l1_ratio\", 0.1)\n",
    "\n",
    "\t# Логирование метрик\n",
    "\tmlflow.log_metric(\"rmse\", 0.78)\n",
    "\n",
    "\t# Логирование артефактов\n",
    "\tmlflow.log_artifact(\"model.pkl\")\n"
   ]
  },
  {
   "cell_type": "markdown",
   "metadata": {},
   "source": [
    "#### 2. MLflow Projects\n",
    "MLflow Projects помогает стандартизировать и управлять проектами машинного обучения. Основные компоненты:\n",
    "- `MLproject` файл: описание проекта.\n",
    "- Среды выполнения: Docker, Conda.\n"
   ]
  },
  {
   "cell_type": "code",
   "execution_count": null,
   "metadata": {},
   "outputs": [],
   "source": [
    "name: MyProject\n",
    "conda_env: conda.yaml\n",
    "entry_points:\n",
    "  main:\n",
    "\tparameters:\n",
    "  \talpha: {type: float, default: 0.5}\n",
    "  \tl1_ratio: {type: float, default: 0.1}\n",
    "\tcommand: \"python train.py --alpha {alpha} --l1_ratio {l1_ratio}\"\n"
   ]
  },
  {
   "cell_type": "markdown",
   "metadata": {},
   "source": [
    "#### 3. MLflow Models\n",
    "MLflow Models стандартизирует формат хранения моделей, что упрощает их деплой и интеграцию с различными инструментами."
   ]
  },
  {
   "cell_type": "code",
   "execution_count": null,
   "metadata": {},
   "outputs": [],
   "source": [
    "import mlflow.sklearn\n",
    "from sklearn.ensemble import RandomForestClassifier\n",
    "\n",
    "# Обучение модели\n",
    "model = RandomForestClassifier()\n",
    "model.fit(X_train, y_train)\n",
    "\n",
    "# Сохранение модели\n",
    "mlflow.sklearn.log_model(model, \"random_forest_model\")"
   ]
  },
  {
   "cell_type": "markdown",
   "metadata": {},
   "source": [
    "#### 4. MLflow Registry\n",
    "MLflow Registry управляет версиями моделей и упрощает их деплой. Он включает в себя:\n",
    "- Регистрирование моделей.\n",
    "- Верификацию и одобрение моделей.\n",
    "- Деплой моделей.\n"
   ]
  },
  {
   "cell_type": "code",
   "execution_count": null,
   "metadata": {},
   "outputs": [],
   "source": [
    "from mlflow.tracking import MlflowClient\n",
    "\n",
    "client = MlflowClient()\n",
    "client.create_registered_model(\"MyModel\")\n",
    "\n",
    "# Регистрирование версии модели\n",
    "client.create_model_version(\n",
    "\tname=\"MyModel\",\n",
    "\tsource=\"path/to/model\",\n",
    "\trun_id=\"some_run_id\"\n",
    ")\n"
   ]
  },
  {
   "cell_type": "markdown",
   "metadata": {},
   "source": [
    "### Важные аспекты использования MLflow\n",
    "\n",
    "1. **Отслеживание экспериментов**: Обязательно логируйте все параметры, метрики и артефакты, чтобы иметь возможность воспроизвести результаты.\n",
    "2. **Стандартизация проектов**: Используйте `MLproject` для описания вашего проекта, что облегчит совместную работу и воспроизводимость.\n",
    "3. **Управление моделями**: Регистрируйте версии моделей, чтобы отслеживать их изменения и деплой.\n",
    "4. **Интеграция с CI/CD**: Интегрируйте MLflow с вашими пайплайнами CI/CD для автоматизации деплоя моделей.\n"
   ]
  },
  {
   "cell_type": "markdown",
   "metadata": {},
   "source": [
    "### Полезная литература и ресурсы\n",
    "\n",
    "Для более глубокого изучения MLflow и эффективного использования его возможностей, рекомендуем ознакомиться с следующими материалами:\n",
    "\n",
    "1. **Официальная документация MLflow**:\n",
    "   - https://mlflow.org/docs/latest/index.html\n",
    "\n",
    "2. **Учебные курсы и руководства**:\n",
    "    - https://www.coursera.org/learn/mlops-mlflow-huggingface-duke&ved=2ahUKEwjwm63Y0qiHAxUwppUCHYdJCBIQFnoECBkQAQ&usg=AOvVaw2nyCGO_azbYNj7j9N6Y9Bu\n",
    "\n",
    "3. **Статьи и блоги**:\n",
    "   - https://habr.com/ru/companies/croc/articles/507314/\n",
    "   - https://habr.com/ru/companies/X5Tech/articles/593263/\n",
    "   - https://habr.com/ru/companies/digdes/articles/673324/\n",
    "4. **Видео**:\n",
    "   - https://youtu.be/-dJPoLm_gtE?si=FY44wEK2usgw5CFB\n",
    "   - https://www.youtube.com/playlist?list=PLQqR_3C2fhUUkoXAcomOxcvfPwRn90U-g"
   ]
  }
 ],
 "metadata": {
  "kernelspec": {
   "display_name": "Python 3",
   "language": "python",
   "name": "python3"
  },
  "language_info": {
   "name": "python",
   "version": "3.12.4"
  }
 },
 "nbformat": 4,
 "nbformat_minor": 2
}
