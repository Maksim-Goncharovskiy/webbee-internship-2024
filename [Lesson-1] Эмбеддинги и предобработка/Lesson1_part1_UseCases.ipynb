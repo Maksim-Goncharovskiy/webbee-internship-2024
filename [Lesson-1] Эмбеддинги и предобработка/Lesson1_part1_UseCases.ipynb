{
 "cells": [
  {
   "cell_type": "markdown",
   "id": "6be2a007-c6d7-4687-95ee-cb25ef59b337",
   "metadata": {},
   "source": [
    "sudo /opt/conda/envs/interns_env/bin/python -m pip install transformers torch"
   ]
  },
  {
   "cell_type": "code",
   "execution_count": 2,
   "id": "06751aee-615e-42c2-bfea-d11334e4460f",
   "metadata": {},
   "outputs": [
    {
     "name": "stderr",
     "output_type": "stream",
     "text": [
      "/opt/conda/envs/interns_env/lib/python3.10/site-packages/tqdm/auto.py:21: TqdmWarning: IProgress not found. Please update jupyter and ipywidgets. See https://ipywidgets.readthedocs.io/en/stable/user_install.html\n",
      "  from .autonotebook import tqdm as notebook_tqdm\n"
     ]
    }
   ],
   "source": [
    "from tqdm import tqdm\n",
    "from transformers import AutoTokenizer, AutoModel\n",
    "from transformers import AutoTokenizer, AutoModelForSeq2SeqLM\n",
    "from transformers import AutoTokenizer, AutoModelForCausalLM\n",
    "from transformers import pipeline\n",
    "import torch\n",
    "import numpy as np"
   ]
  },
  {
   "cell_type": "code",
   "execution_count": 3,
   "id": "afafa649-fc82-45df-a1bd-136a817d5de6",
   "metadata": {},
   "outputs": [
    {
     "name": "stdout",
     "output_type": "stream",
     "text": [
      "Query: What is the capital of France?\n",
      "Document 1: Tokyo is the capital of Japan. (Similarity: 57.130001068115234)\n",
      "Document 2: Paris is the capital of France. (Similarity: 65.79000091552734)\n",
      "Document 3: The capital of Germany is Berlin. (Similarity: 61.68000030517578)\n"
     ]
    }
   ],
   "source": [
    "# Скачиваем модель и токенизатор\n",
    "tokenizer = AutoTokenizer.from_pretrained('distilbert-base-uncased')\n",
    "model = AutoModel.from_pretrained('distilbert-base-uncased')\n",
    "\n",
    "def embed_text(text):\n",
    "    # Токенизируем\n",
    "    inputs = tokenizer(text, return_tensors='pt', truncation=True, padding=True)\n",
    "    # Получаем результат модели\n",
    "    outputs = model(**inputs)\n",
    "    # Возвращаем последнее скрытое состояние результата модели\n",
    "    return outputs.last_hidden_state.mean(dim=1).detach().numpy()\n",
    "\n",
    "# Данные\n",
    "query = \"What is the capital of France?\"\n",
    "documents = [\"Tokyo is the capital of Japan.\", \"Paris is the capital of France.\", \"The capital of Germany is Berlin.\"]\n",
    "\n",
    "# Получаем эмбединг запроса\n",
    "query_embedding = embed_text(query)\n",
    "# Получаем эмбединг каждого документа, транспонируя матрицу\n",
    "document_embeddings = [embed_text(doc).T for doc in documents]\n",
    "\n",
    "# Вычисляем косинусное сходство через матричное умножение\n",
    "similarities = (query_embedding @ document_embeddings).squeeze()\n",
    "\n",
    "print(\"Query:\", query)\n",
    "for i, doc in enumerate(documents):\n",
    "    print(f\"Document {i+1}: {doc} (Similarity: {round(similarities[i], 2)})\")"
   ]
  },
  {
   "cell_type": "markdown",
   "id": "f7ddbeb4-f64e-4833-a1b2-3f0213bbdd20",
   "metadata": {},
   "source": [
    "1.\n",
    "```python\n",
    "return outputs.last_hidden_state.mean(dim=1).detach().numpy()\n",
    "    \n",
    "    Размерность outputs.last_hidden_state -> (batch_size, sequence_length, hidden_size), где \"sequence_length\" - кол-во слов\\токенов.\n",
    "\n",
    "    \n",
    "    BERT-tokenizer токенизирует по словам, поэтому чтобы получить векторное представление (эмбединг) всего предложения, то мы можем взять средний эмбединг всех слов - .mean(dim=1) - это и будет эмбединг всего предложения\n",
    "\n",
    "```"
   ]
  },
  {
   "cell_type": "markdown",
   "id": "21ae9a14-a8f0-426b-9746-c546cb5edafb",
   "metadata": {},
   "source": [
    "2.\n",
    "```python\n",
    "    Транспонирование приводит к тому, что document_embedding.𝑇 изменяет размерность с (1, D) на (D, 1),\n",
    "    что позволяет выполнить матричное умножение: query_embedding (1, D) на document_embedding.𝑇 (D, 1), \n",
    "    результатом чего будет скалярное произведение (1, 1).\n",
    "    \n",
    "    @ - матричное умножение\n",
    "    .squeeze() - удаляет измерения -> превращает [[значение1], [значение2]] в [значение1, значение2]\n",
    "```"
   ]
  },
  {
   "cell_type": "code",
   "execution_count": 4,
   "id": "24208827-c7d5-4be6-a717-46c1e93c71d3",
   "metadata": {},
   "outputs": [
    {
     "name": "stderr",
     "output_type": "stream",
     "text": [
      "/opt/conda/envs/interns_env/lib/python3.10/site-packages/transformers/models/marian/tokenization_marian.py:175: UserWarning: Recommended: pip install sacremoses.\n",
      "  warnings.warn(\"Recommended: pip install sacremoses.\")\n"
     ]
    },
    {
     "name": "stdout",
     "output_type": "stream",
     "text": [
      "Original: Hello, how are you?\n",
      "Translation: Привет, как дела?\n"
     ]
    }
   ],
   "source": [
    "# Скачиваем модель и токенизатор\n",
    "tokenizer = AutoTokenizer.from_pretrained('Helsinki-NLP/opus-mt-en-ru')\n",
    "model = AutoModelForSeq2SeqLM.from_pretrained('Helsinki-NLP/opus-mt-en-ru')\n",
    "\n",
    "def translate(text):\n",
    "    inputs = tokenizer(text, return_tensors='pt', truncation=True, padding=True)\n",
    "    # Модель принимает в себя токены и возвращает токены\n",
    "    outputs = model.generate(**inputs)\n",
    "    return tokenizer.decode(outputs[0], skip_special_tokens=True)\n",
    "\n",
    "# Пример инференса\n",
    "text = \"Hello, how are you?\"\n",
    "translation = translate(text)\n",
    "print(\"Original:\", text)\n",
    "print(\"Translation:\", translation)"
   ]
  },
  {
   "cell_type": "code",
   "execution_count": 5,
   "id": "b1109506-1208-43c5-9625-d70a1307e960",
   "metadata": {},
   "outputs": [
    {
     "name": "stdout",
     "output_type": "stream",
     "text": [
      "Входные токены: tensor([[ 160, 5270,    2,  508,   55,   33,   19,    0]])\n",
      "\n",
      "Декодирование выходных токенов:\n",
      "Token: 62517   Word: <pad>\n",
      "Token: 543     Word: При\n",
      "Token: 1877    Word: вет\n",
      "Token: 2       Word: ,\n",
      "Token: 69      Word: как\n",
      "Token: 1082    Word: дела\n",
      "Token: 19      Word: ?\n",
      "Token: 0       Word: </s>\n"
     ]
    }
   ],
   "source": [
    "inputs = tokenizer(text, return_tensors='pt', truncation=True, padding=True)\n",
    "print(f'Входные токены: {inputs[\"input_ids\"]}')\n",
    "outputs = model.generate(**inputs)\n",
    "\n",
    "print(\"\\nДекодирование выходных токенов:\")\n",
    "for output in outputs[0]:\n",
    "    print(f'Token: {output:<6}  Word: {tokenizer.decode(output)}')"
   ]
  },
  {
   "cell_type": "code",
   "execution_count": 6,
   "id": "1222559d-bd9d-46a3-804d-3f73ee960eff",
   "metadata": {},
   "outputs": [
    {
     "name": "stdout",
     "output_type": "stream",
     "text": [
      "Text: I love this movie!\n",
      "Sentiment: POSITIVE\n",
      "\n",
      "Text: This is the worst product I have ever bought.\n",
      "Sentiment: NEGATIVE\n",
      "\n",
      "Text: The food was delicious and the service was excellent.\n",
      "Sentiment: POSITIVE\n",
      "\n",
      "Text: I am not happy with the way things turned out.\n",
      "Sentiment: NEGATIVE\n",
      "\n",
      "Text: What an amazing experience!\n",
      "Sentiment: POSITIVE\n",
      "\n",
      "Text: I feel very disappointed with the performance.\n",
      "Sentiment: NEGATIVE\n",
      "\n",
      "Text: The weather is terrible today.\n",
      "Sentiment: NEGATIVE\n",
      "\n",
      "Text: I don't like the new design at all.\n",
      "Sentiment: NEGATIVE\n",
      "\n",
      "Text: This is the best book I have read this year.\n",
      "Sentiment: POSITIVE\n",
      "\n"
     ]
    }
   ],
   "source": [
    "# Скачиваем модель и создаем pipeline для анализа тональности\n",
    "sentiment_analyzer = pipeline('sentiment-analysis', model='distilbert-base-uncased-finetuned-sst-2-english')\n",
    "\n",
    "# Примеры текста для анализа тональности\n",
    "texts = [\n",
    "    \"I love this movie!\",\n",
    "    \"This is the worst product I have ever bought.\",\n",
    "    \"The food was delicious and the service was excellent.\",\n",
    "    \"I am not happy with the way things turned out.\",\n",
    "    \"What an amazing experience!\",\n",
    "    \"I feel very disappointed with the performance.\",\n",
    "    \"The weather is terrible today.\",\n",
    "    \"I don't like the new design at all.\",\n",
    "    \"This is the best book I have read this year.\"\n",
    "]\n",
    "\n",
    "# Анализ тональности для каждого текста\n",
    "for text in texts:\n",
    "    result = sentiment_analyzer(text)[0]\n",
    "    print(f\"Text: {text}\\nSentiment: {result['label']}\\n\")\n"
   ]
  },
  {
   "cell_type": "code",
   "execution_count": 5,
   "id": "72fb051b-7174-47c4-a561-4a3e04aa6bd6",
   "metadata": {},
   "outputs": [
    {
     "name": "stdout",
     "output_type": "stream",
     "text": [
      "User: Does money buy happiness?\n",
      "Bot:  Buy happiness buy life.\n",
      "CPU times: user 2.35 s, sys: 371 ms, total: 2.72 s\n",
      "Wall time: 1 s\n"
     ]
    }
   ],
   "source": [
    "%%time\n",
    "# Скачиваем модель и токенизатор\n",
    "tokenizer = AutoTokenizer.from_pretrained('microsoft/DialoGPT-small')\n",
    "tokenizer.pad_token = tokenizer.eos_token\n",
    "model = AutoModelForCausalLM.from_pretrained('microsoft/DialoGPT-small')\n",
    "\n",
    "def chat_with_bot(prompt):\n",
    "    inputs = tokenizer(prompt, return_tensors='pt', truncation=True, padding=True)\n",
    "    outputs = model.generate(**inputs, max_length=50, pad_token_id=tokenizer.eos_token_id)\n",
    "    return tokenizer.decode(outputs[0], skip_special_tokens=True)\n",
    "\n",
    "# Пример инференса\n",
    "prompt = \"Does money buy happiness?\"\n",
    "response = chat_with_bot(prompt)\n",
    "print(\"User:\", prompt)\n",
    "print(\"Bot:\", response[len(prompt):])"
   ]
  },
  {
   "cell_type": "code",
   "execution_count": null,
   "id": "89e71835-65d7-4b4a-9c7d-5bc640a9c4c4",
   "metadata": {},
   "outputs": [],
   "source": []
  }
 ],
 "metadata": {
  "kernelspec": {
   "display_name": "interns_kernel",
   "language": "python",
   "name": "interns_kernel"
  },
  "language_info": {
   "codemirror_mode": {
    "name": "ipython",
    "version": 3
   },
   "file_extension": ".py",
   "mimetype": "text/x-python",
   "name": "python",
   "nbconvert_exporter": "python",
   "pygments_lexer": "ipython3",
   "version": "3.10.14"
  }
 },
 "nbformat": 4,
 "nbformat_minor": 5
}
